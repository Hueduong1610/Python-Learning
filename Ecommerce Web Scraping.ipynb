{
 "cells": [
  {
   "cell_type": "code",
   "execution_count": 9,
   "id": "18c73e1d",
   "metadata": {},
   "outputs": [],
   "source": [
    "import pandas as pd\n",
    "from pandas import Series, DataFrame\n",
    "import requests\n",
    "from bs4 import BeautifulSoup"
   ]
  },
  {
   "cell_type": "code",
   "execution_count": 10,
   "id": "7b267815",
   "metadata": {},
   "outputs": [],
   "source": [
    "baseurl = 'https://www.thewhiskyexchange.com/'\n",
    "headers = { \"User-Agent\": \"Mozilla/5.0 (Windows NT 10.0; Win64; x64) AppleWebKit/537.36 (KHTML, like Gecko) Chrome/100.0.4896.88 Safari/537.36\",\n",
    "           \"Accept-Encoding\": \"gzip, deflate\",\n",
    "           \"Accept\": \"text/html,application/xhtml+xml,application/xml;q=0.9,image/avif,image/webp,image/apng,*/*;q=0.8,application/signed-exchange;v=b3;q=0.9\",\n",
    "           \"DNT\":\"1\",\"Connection\":\"close\",\n",
    "           \"Upgrade-Insecure-Requests\": \"1\"\n",
    "  }"
   ]
  },
  {
   "cell_type": "code",
   "execution_count": 22,
   "id": "d186a377",
   "metadata": {},
   "outputs": [],
   "source": [
    "productlinks =[]\n",
    "for x in range(1,6):\n",
    "    url = f'https://www.thewhiskyexchange.com/d/1115/b-corp-certified?pg={x}'\n",
    "    r = requests.get(url, headers = headers)\n",
    "    soup = BeautifulSoup(r.content, 'html.parser')\n",
    "    #print(soup)\n",
    "    productlist = soup.find_all('div', class_='product-grid')\n",
    "    for item in productlist:\n",
    "        for link in item.find_all('a', href = True):\n",
    "            productlinks.append(baseurl + link['href'])\n"
   ]
  },
  {
   "cell_type": "code",
   "execution_count": 28,
   "id": "62a64ac1",
   "metadata": {},
   "outputs": [
    {
     "name": "stdout",
     "output_type": "stream",
     "text": [
      "                                                name  price    status\n",
      "0                        Nc'Nean Organic Single Malt  49.95  In Stock\n",
      "1      Bruichladdich Classic Laddie\\nScottish Barley  43.95  In Stock\n",
      "2  Octomore Edition 12.1\\n5 Year Old The Impossib...    131  In Stock\n",
      "3                    Graham's 20 Year Old Tawny Port  38.95  In Stock\n",
      "4                    Graham's 40 Year Old Tawny Port    110  In Stock\n"
     ]
    }
   ],
   "source": [
    "#testlink = 'https://www.thewhiskyexchange.com/p/59723/dows-quinta-do-bomfim-2010-port'\n",
    "whiskylist =[]\n",
    "for link in productlinks:\n",
    "    r = requests.get(link, headers = headers)\n",
    "    soup = BeautifulSoup(r.content, 'html.parser')\n",
    "    name = soup.find('h1', class_=\"product-main__name\").get_text().strip()\n",
    "    price = soup.find('p', class_= 'product-action__price').get_text().strip().replace('£','')\n",
    "    status = soup.find('p', class_=\"product-action__stock-flag\").get_text().strip()\n",
    "    whisky = {\n",
    "        'name':name,\n",
    "        'price': price,\n",
    "        'status': status\n",
    "    }\n",
    "    #print(whisky)\n",
    "    whiskylist.append(whisky)\n",
    "\n",
    "\n",
    "df = DataFrame(whiskylist)\n",
    "print(df.head())"
   ]
  },
  {
   "cell_type": "code",
   "execution_count": null,
   "id": "1f034784",
   "metadata": {},
   "outputs": [],
   "source": []
  }
 ],
 "metadata": {
  "kernelspec": {
   "display_name": "Python 3 (ipykernel)",
   "language": "python",
   "name": "python3"
  },
  "language_info": {
   "codemirror_mode": {
    "name": "ipython",
    "version": 3
   },
   "file_extension": ".py",
   "mimetype": "text/x-python",
   "name": "python",
   "nbconvert_exporter": "python",
   "pygments_lexer": "ipython3",
   "version": "3.9.7"
  }
 },
 "nbformat": 4,
 "nbformat_minor": 5
}
