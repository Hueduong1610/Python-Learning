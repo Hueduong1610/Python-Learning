{
 "cells": [
  {
   "cell_type": "markdown",
   "metadata": {},
   "source": [
    "# Introduction\n",
    "\n",
    "This project is to write a program that allows user to analyse their data about exams scores by typing in the name of the file. Data files includes 8 text files, corresponds to the answers given by 8 different class. Each class has different number of students. Among their answers, there will be valid ones and invalid ones based on answer format (26 values each line) and student_id format (9 values, start with N and followed by 8 digits).\n",
    "\n",
    "The score will be calculated for valid ones based on number of right answers, wrong answers and skipping ones. Another file will be created which demonstrates the student ID and their score for each class. \n"
   ]
  },
  {
   "cell_type": "markdown",
   "metadata": {},
   "source": [
    "### Import necessary libraries"
   ]
  },
  {
   "cell_type": "code",
   "execution_count": 1,
   "metadata": {},
   "outputs": [],
   "source": [
    "\n",
    "import statistics as st"
   ]
  },
  {
   "cell_type": "markdown",
   "metadata": {},
   "source": [
    "### Change current direction to data file location if necessary"
   ]
  },
  {
   "cell_type": "code",
   "execution_count": 3,
   "metadata": {},
   "outputs": [],
   "source": [
    "import os\n",
    "os.chdir(\"D:\\Download_Hue\\Documents\\Data Science\\Assignment 2\\Data Files\")"
   ]
  },
  {
   "cell_type": "code",
   "execution_count": 10,
   "metadata": {
    "scrolled": true
   },
   "outputs": [
    {
     "name": "stdout",
     "output_type": "stream",
     "text": [
      "Enter a file name: class4\n",
      "Successfully opened  class4 .txt\n",
      "Total lines in the file:  495\n",
      "\n",
      "Invalid line of data: Does not contain exactly 26 values\n",
      "\n",
      "['N00000616', 'B', 'A', 'D', 'D', 'A', 'B', 'D', 'A', 'C', 'C', 'D', 'C', 'A', 'B', 'A', 'C', 'B', 'D', 'A', '', 'A', 'B', 'B', 'D', 'D', 'A\\n']\n",
      "\n",
      "Invalid line of data: Student ID does not contains 9 values\n",
      "\n",
      "['N0000062', 'B', 'A', 'A', 'D', 'D', 'B', 'D', 'A', 'C', 'C', '', 'B', 'A', 'B', 'A', 'B', 'B', 'D', 'A', 'C', 'A', 'A', '', 'D', 'D\\n']\n",
      "\n",
      "Invalid line of data: N# is invalid\n",
      "\n",
      "['N000008A8', 'B', 'A', 'D', 'D', '', '', 'C', 'A', 'C', 'C', 'D', 'A', 'A', 'B', 'A', 'C', 'B', 'D', 'A', 'C', 'A', '', '', '', 'D\\n']\n",
      "\n",
      "Invalid line of data: Does not contain exactly 26 values\n",
      "\n",
      "['N00000638', 'B', 'A', 'D', 'D', 'C', 'B', 'D', 'A', 'C', '', 'D', 'B', 'A', 'B', 'A', 'B', 'C', 'D', 'A', 'C', 'A', '', '', 'D', 'D', 'Q\\n']\n",
      "\n",
      "Total valid lines:  491\n",
      "\n",
      "Total invalid lines:  4\n",
      "\n",
      "Average score:  75.76374745417515\n",
      "\n",
      "Max score:  100\n",
      "\n",
      "Min score:  44\n",
      "\n",
      "Range of scores:  56\n",
      "\n",
      "Median score:  77\n"
     ]
    }
   ],
   "source": [
    "filename = input(\"Enter a file name: \")\n",
    "try:\n",
    "    with open(filename + \".txt\") as file:\n",
    "        print(\"Successfully opened \", filename,'.txt')\n",
    "\n",
    "    # Analysing data files, using readlines to read multiple lines in a file at once\n",
    "        f = file.readlines()\n",
    "        print(\"Total lines in the file: \", len(f))\n",
    "\n",
    "        # Using for-loop to check whether each line in the file is valid or invalid. In case of invalid lines, this line\n",
    "        # will be printed out, and a warning was raised about the errors of this line. In case of valid lines,\n",
    "        # score will be calculated and stored in a list (score_list), from which other indicators such as: mean,\n",
    "        # highest, lowest, median score will be showed. A grade list will be created at the same time to export to a new\n",
    "\n",
    "        # text file.\n",
    "\n",
    "        valid_line = 0\n",
    "        invalid_line = 0\n",
    "        score_list = []\n",
    "        grade_list = []\n",
    "\n",
    "        for line in f:\n",
    "            split_line = line.split(\",\")\n",
    "            answer_key = [\"B\", \"A\", \"D\", \"D\", \"C\", \"B\", \"D\", \"A\", \"C\", \"C\", \"D\", \"B\", \"A\", \"B\", \"A\", \"C\", \"B\", \"D\", \"A\",\n",
    "                          \"C\", \"A\", \"A\", \"B\", \"D\", \"D\"]\n",
    "            if len(split_line) == 26:\n",
    "                if len(split_line[0]) == 9:\n",
    "                    if split_line[0][0] == 'N' and split_line[0][1:10].isdigit() == True:\n",
    "                        valid_line += 1\n",
    "\n",
    "                        # split data into student id part and answer part stored in variable t\n",
    "                        # Using strip to clean the \\n in data, store new data in convert_t\n",
    "                        t = split_line[1:len(split_line)]\n",
    "                        convert_t = []\n",
    "                        for element in t:\n",
    "                            convert_t.append(element.strip())\n",
    "\n",
    "                        # calculating score by comparing the answer given in each valid line with answer_key\n",
    "                        score = 0\n",
    "                        for i, j in zip(convert_t, answer_key):\n",
    "                            if i == \"\":\n",
    "                                score += 0\n",
    "\n",
    "                            elif i == j:\n",
    "                                score += 4\n",
    "\n",
    "                            else:\n",
    "                                score -= 1\n",
    "\n",
    "                        score_list.append(score)\n",
    "\n",
    "                        # join student id (split_line[0]) with \",\" and with score to store in grade file\n",
    "\n",
    "                        l1 = \"\".join([split_line[0], \",\", str(score)])\n",
    "                        grade_list.append(l1)\n",
    "\n",
    "                        # create a new file in writing mode and append grade list to the file, using with_open\n",
    "                        # to automatically close the file\n",
    "                        with open(\"Output\\\\\" + filename + \"_grades.txt\", \"w\") as new_file:\n",
    "                            new_file.writelines(\"\\n\".join(grade_list))\n",
    "\n",
    "\n",
    "                    else:\n",
    "                        print(\"\\nInvalid line of data: N# is invalid\\n\")\n",
    "                        print(split_line)\n",
    "                        invalid_line += 1\n",
    "\n",
    "                else:\n",
    "                    print(\"\\nInvalid line of data: Student ID does not contains 9 values\\n\")\n",
    "                    print(split_line)\n",
    "                    invalid_line += 1\n",
    "\n",
    "            else:\n",
    "                print(\"\\nInvalid line of data: Does not contain exactly 26 values\\n\")\n",
    "                print(split_line)\n",
    "                invalid_line += 1\n",
    "\n",
    "        if invalid_line == 0:\n",
    "            print(\"\\nNo errors found!\")\n",
    "        else:\n",
    "            pass\n",
    "\n",
    "        print(\"\\nTotal valid lines: \", valid_line)\n",
    "        print(\"\\nTotal invalid lines: \", invalid_line)\n",
    "\n",
    "        print(\"\\nAverage score: \", st.mean(score_list))\n",
    "        print(\"\\nMax score: \", max(score_list))\n",
    "        print(\"\\nMin score: \", min(score_list))\n",
    "        print(\"\\nRange of scores: \", max(score_list) - min(score_list))\n",
    "        print(\"\\nMedian score: \", st.median(score_list))\n",
    "\n",
    "\n",
    "except:\n",
    "    print(\"File not found\")\n"
   ]
  },
  {
   "cell_type": "code",
   "execution_count": null,
   "metadata": {},
   "outputs": [],
   "source": []
  }
 ],
 "metadata": {
  "kernelspec": {
   "display_name": "Python 3",
   "language": "python",
   "name": "python3"
  },
  "language_info": {
   "codemirror_mode": {
    "name": "ipython",
    "version": 3
   },
   "file_extension": ".py",
   "mimetype": "text/x-python",
   "name": "python",
   "nbconvert_exporter": "python",
   "pygments_lexer": "ipython3",
   "version": "3.8.5"
  }
 },
 "nbformat": 4,
 "nbformat_minor": 4
}
