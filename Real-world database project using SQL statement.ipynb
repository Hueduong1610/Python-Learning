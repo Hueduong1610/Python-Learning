{
 "cells": [
  {
   "cell_type": "code",
   "execution_count": 1,
   "metadata": {},
   "outputs": [],
   "source": [
    "import pandas as pd\n",
    "import sqlite3"
   ]
  },
  {
   "cell_type": "code",
   "execution_count": 2,
   "metadata": {},
   "outputs": [
    {
     "name": "stdout",
     "output_type": "stream",
     "text": [
      "    type               name           tbl_name  rootpage  \\\n",
      "0  table    sqlite_sequence    sqlite_sequence         4   \n",
      "1  table  Player_Attributes  Player_Attributes        11   \n",
      "2  table             Player             Player        14   \n",
      "3  table              Match              Match        18   \n",
      "4  table             League             League        24   \n",
      "5  table            Country            Country        26   \n",
      "6  table               Team               Team        29   \n",
      "7  table    Team_Attributes    Team_Attributes         2   \n",
      "\n",
      "                                                 sql  \n",
      "0             CREATE TABLE sqlite_sequence(name,seq)  \n",
      "1  CREATE TABLE \"Player_Attributes\" (\\n\\t`id`\\tIN...  \n",
      "2  CREATE TABLE `Player` (\\n\\t`id`\\tINTEGER PRIMA...  \n",
      "3  CREATE TABLE `Match` (\\n\\t`id`\\tINTEGER PRIMAR...  \n",
      "4  CREATE TABLE `League` (\\n\\t`id`\\tINTEGER PRIMA...  \n",
      "5  CREATE TABLE `Country` (\\n\\t`id`\\tINTEGER PRIM...  \n",
      "6  CREATE TABLE \"Team\" (\\n\\t`id`\\tINTEGER PRIMARY...  \n",
      "7  CREATE TABLE `Team_Attributes` (\\n\\t`id`\\tINTE...  \n",
      "<class 'pandas.core.frame.DataFrame'>\n",
      "RangeIndex: 8 entries, 0 to 7\n",
      "Data columns (total 5 columns):\n",
      " #   Column    Non-Null Count  Dtype \n",
      "---  ------    --------------  ----- \n",
      " 0   type      8 non-null      object\n",
      " 1   name      8 non-null      object\n",
      " 2   tbl_name  8 non-null      object\n",
      " 3   rootpage  8 non-null      int64 \n",
      " 4   sql       8 non-null      object\n",
      "dtypes: int64(1), object(4)\n",
      "memory usage: 448.0+ bytes\n",
      "None\n"
     ]
    }
   ],
   "source": [
    "#Q1 Connect to database\n",
    "\n",
    "conn = sqlite3.connect(r'D:\\Download_Hue\\Documents\\Data Science\\Python for data analysis\\assignment\\assignment 1\\resource-20210110T134843Z-001\\resource\\database.sqlite')\n",
    "table = pd.read_sql_query(\"SELECT * FROM sqlite_master WHERE type='table'\", conn)\n",
    "print(table)\n",
    "print(table.info())"
   ]
  },
  {
   "cell_type": "code",
   "execution_count": 3,
   "metadata": {},
   "outputs": [
    {
     "name": "stdout",
     "output_type": "stream",
     "text": [
      "<class 'pandas.core.frame.DataFrame'>\n",
      "RangeIndex: 8 entries, 0 to 7\n",
      "Data columns (total 1 columns):\n",
      " #   Column  Non-Null Count  Dtype \n",
      "---  ------  --------------  ----- \n",
      " 0   sql     8 non-null      object\n",
      "dtypes: object(1)\n",
      "memory usage: 192.0+ bytes\n",
      "None\n"
     ]
    }
   ],
   "source": [
    "table2 = pd.read_sql_query(\"SELECT sql FROM sqlite_master WHERE type='table'\", conn)\n",
    "print(table2.info())"
   ]
  },
  {
   "cell_type": "code",
   "execution_count": 4,
   "metadata": {},
   "outputs": [
    {
     "name": "stdout",
     "output_type": "stream",
     "text": [
      "       id         name\n",
      "0       1      Belgium\n",
      "1    1729      England\n",
      "2    4769       France\n",
      "3    7809      Germany\n",
      "4   10257        Italy\n",
      "5   13274  Netherlands\n",
      "6   15722       Poland\n",
      "7   17642     Portugal\n",
      "8   19694     Scotland\n",
      "9   21518        Spain\n",
      "10  24558  Switzerland\n"
     ]
    }
   ],
   "source": [
    "#Q2 select data in \"Country\" table\n",
    "\n",
    "country = pd.read_sql_query(\"SELECT * FROM Country\",conn)\n",
    "print(country)"
   ]
  },
  {
   "cell_type": "code",
   "execution_count": 5,
   "metadata": {
    "scrolled": true
   },
   "outputs": [
    {
     "name": "stdout",
     "output_type": "stream",
     "text": [
      "       id  country_id                      name\n",
      "0       1           1    Belgium Jupiler League\n",
      "1    1729        1729    England Premier League\n",
      "2    4769        4769            France Ligue 1\n",
      "3    7809        7809     Germany 1. Bundesliga\n",
      "4   10257       10257             Italy Serie A\n",
      "5   13274       13274    Netherlands Eredivisie\n",
      "6   15722       15722        Poland Ekstraklasa\n",
      "7   17642       17642  Portugal Liga ZON Sagres\n",
      "8   19694       19694   Scotland Premier League\n",
      "9   21518       21518           Spain LIGA BBVA\n",
      "10  24558       24558  Switzerland Super League\n"
     ]
    }
   ],
   "source": [
    "#Q3 select data in \"League\" table\n",
    "\n",
    "league = pd.read_sql_query(\"SELECT * FROM League\",conn)\n",
    "print(league)"
   ]
  },
  {
   "cell_type": "code",
   "execution_count": 6,
   "metadata": {
    "scrolled": false
   },
   "outputs": [
    {
     "name": "stdout",
     "output_type": "stream",
     "text": [
      "       id  country_id                      name     id         name\n",
      "0       1           1    Belgium Jupiler League      1      Belgium\n",
      "1    1729        1729    England Premier League   1729      England\n",
      "2    4769        4769            France Ligue 1   4769       France\n",
      "3    7809        7809     Germany 1. Bundesliga   7809      Germany\n",
      "4   10257       10257             Italy Serie A  10257        Italy\n",
      "5   13274       13274    Netherlands Eredivisie  13274  Netherlands\n",
      "6   15722       15722        Poland Ekstraklasa  15722       Poland\n",
      "7   17642       17642  Portugal Liga ZON Sagres  17642     Portugal\n",
      "8   19694       19694   Scotland Premier League  19694     Scotland\n",
      "9   21518       21518           Spain LIGA BBVA  21518        Spain\n",
      "10  24558       24558  Switzerland Super League  24558  Switzerland\n"
     ]
    }
   ],
   "source": [
    "#Q4 Select League data with Country information\n",
    "\n",
    "league_country = pd.read_sql_query(\"SELECT * FROM League \\\n",
    "LEFT JOIN Country ON League.id = Country.id\",conn)\n",
    "print(league_country)"
   ]
  },
  {
   "cell_type": "code",
   "execution_count": 7,
   "metadata": {
    "scrolled": true
   },
   "outputs": [
    {
     "name": "stdout",
     "output_type": "stream",
     "text": [
      "   id  country_id  league_id     season  stage                 date  \\\n",
      "0   1           1          1  2008/2009      1  2008-08-17 00:00:00   \n",
      "1   2           1          1  2008/2009      1  2008-08-16 00:00:00   \n",
      "2   3           1          1  2008/2009      1  2008-08-16 00:00:00   \n",
      "3   4           1          1  2008/2009      1  2008-08-17 00:00:00   \n",
      "4   5           1          1  2008/2009      1  2008-08-16 00:00:00   \n",
      "\n",
      "   match_api_id  home_team_api_id  away_team_api_id  home_team_goal  ...  \\\n",
      "0        492473              9987              9993               1  ...   \n",
      "1        492474             10000              9994               0  ...   \n",
      "2        492475              9984              8635               0  ...   \n",
      "3        492476              9991              9998               5  ...   \n",
      "4        492477              7947              9985               1  ...   \n",
      "\n",
      "    SJA   VCH   VCD   VCA   GBH   GBD   GBA   BSH   BSD   BSA  \n",
      "0  4.00  1.65  3.40  4.50  1.78  3.25  4.00  1.73  3.40  4.20  \n",
      "1  3.80  2.00  3.25  3.25  1.85  3.25  3.75  1.91  3.25  3.60  \n",
      "2  2.50  2.35  3.25  2.65  2.50  3.20  2.50  2.30  3.20  2.75  \n",
      "3  7.50  1.45  3.75  6.50  1.50  3.75  5.50  1.44  3.75  6.50  \n",
      "4  1.73  4.50  3.40  1.65  4.50  3.50  1.65  4.75  3.30  1.67  \n",
      "\n",
      "[5 rows x 115 columns]\n"
     ]
    }
   ],
   "source": [
    "# Q5 Select data from Match table\n",
    "\n",
    "match = pd.read_sql_query(\"SELECT * FROM Match\", conn)\n",
    "print(match.head())"
   ]
  },
  {
   "cell_type": "code",
   "execution_count": 8,
   "metadata": {},
   "outputs": [
    {
     "name": "stdout",
     "output_type": "stream",
     "text": [
      "   id  country_id  league_id     season  stage                 date  \\\n",
      "0   1           1          1  2008/2009      1  2008-08-17 00:00:00   \n",
      "1   2           1          1  2008/2009      1  2008-08-16 00:00:00   \n",
      "2   3           1          1  2008/2009      1  2008-08-16 00:00:00   \n",
      "\n",
      "   match_api_id  home_team_api_id  away_team_api_id  home_team_goal  ...  \\\n",
      "0        492473              9987              9993               1  ...   \n",
      "1        492474             10000              9994               0  ...   \n",
      "2        492475              9984              8635               0  ...   \n",
      "\n",
      "    GBD   GBA   BSH   BSD   BSA  id  country_id                    name  id  \\\n",
      "0  3.25  4.00  1.73  3.40  4.20   1           1  Belgium Jupiler League   1   \n",
      "1  3.25  3.75  1.91  3.25  3.60   1           1  Belgium Jupiler League   1   \n",
      "2  3.20  2.50  2.30  3.20  2.75   1           1  Belgium Jupiler League   1   \n",
      "\n",
      "      name  \n",
      "0  Belgium  \n",
      "1  Belgium  \n",
      "2  Belgium  \n",
      "\n",
      "[3 rows x 120 columns]\n"
     ]
    }
   ],
   "source": [
    "# Q6 Select match data including league and country information\n",
    "\n",
    "match_league_country = pd.read_sql_query(\"SELECT * FROM Match M \\\n",
    "LEFT JOIN League L ON M.country_id = L.country_id \\\n",
    "LEFT JOIN Country C ON M.country_id = C.id\", conn)\n",
    "print(match_league_country.head(3))"
   ]
  },
  {
   "cell_type": "code",
   "execution_count": 29,
   "metadata": {},
   "outputs": [
    {
     "name": "stdout",
     "output_type": "stream",
     "text": [
      "    no_match                      name\n",
      "0       3040           Spain LIGA BBVA\n",
      "1       3040            France Ligue 1\n",
      "2       3040    England Premier League\n",
      "3       3017             Italy Serie A\n",
      "4       2448    Netherlands Eredivisie\n",
      "5       2448     Germany 1. Bundesliga\n",
      "6       2052  Portugal Liga ZON Sagres\n",
      "7       1920        Poland Ekstraklasa\n",
      "8       1824   Scotland Premier League\n",
      "9       1728    Belgium Jupiler League\n",
      "10      1422  Switzerland Super League\n"
     ]
    }
   ],
   "source": [
    "# Q 7 Get number of match by each league including league name, order the number of match by descending\n",
    "\n",
    "no_match = pd.read_sql_query(\"SELECT count(*) AS no_match, L.name FROM Match M \\\n",
    "LEFT JOIN League L ON M.country_id = L.country_id \\\n",
    "GROUP BY L.name \\\n",
    "ORDER BY no_match DESC\", conn)\n",
    "print(no_match)"
   ]
  },
  {
   "cell_type": "code",
   "execution_count": 10,
   "metadata": {},
   "outputs": [
    {
     "name": "stdout",
     "output_type": "stream",
     "text": [
      "                        name  hteam_goal  ateam_goal\n",
      "0     Belgium Jupiler League        2781        2060\n",
      "1     England Premier League        4715        3525\n",
      "2             France Ligue 1        4265        3162\n",
      "3      Germany 1. Bundesliga        3982        3121\n",
      "4              Italy Serie A        4528        3367\n",
      "5     Netherlands Eredivisie        4357        3185\n",
      "6         Poland Ekstraklasa        2678        1978\n",
      "7   Portugal Liga ZON Sagres        2890        2311\n",
      "8    Scotland Premier League        2607        2197\n",
      "9            Spain LIGA BBVA        4959        3453\n",
      "10  Switzerland Super League        2365        1801\n"
     ]
    }
   ],
   "source": [
    "# Q8 Get total goal of home team and away team in each league\n",
    "\n",
    "total_goal = pd.read_sql_query('SELECT L.name, Sum(home_team_goal) AS hteam_goal, \\\n",
    "Sum(away_team_goal) AS ateam_goal \\\n",
    "FROM Match M \\\n",
    "INNER JOIN League L ON M.country_id = L.country_id \\\n",
    "GROUP BY L.name', conn)\n",
    "print(total_goal)"
   ]
  },
  {
   "cell_type": "code",
   "execution_count": 11,
   "metadata": {},
   "outputs": [
    {
     "name": "stdout",
     "output_type": "stream",
     "text": [
      "   id  team_api_id  team_fifa_api_id     team_long_name team_short_name\n",
      "0   1         9987             673.0           KRC Genk             GEN\n",
      "1   2         9993             675.0       Beerschot AC             BAC\n",
      "2   3        10000           15005.0   SV Zulte-Waregem             ZUL\n",
      "3   4         9994            2007.0   Sporting Lokeren             LOK\n",
      "4   5         9984            1750.0  KSV Cercle Brugge             CEB\n"
     ]
    }
   ],
   "source": [
    "# Q9 Select data from Team table\n",
    "\n",
    "team = pd.read_sql_query(\"SELECT * FROM Team\", conn)\n",
    "print(team.head())"
   ]
  },
  {
   "cell_type": "code",
   "execution_count": 30,
   "metadata": {},
   "outputs": [
    {
     "name": "stdout",
     "output_type": "stream",
     "text": [
      "         team_long_name  home_goal\n",
      "0        Real Madrid CF        505\n",
      "1          FC Barcelona        495\n",
      "2                Celtic        389\n",
      "3      FC Bayern Munich        382\n",
      "4                   PSV        370\n",
      "5       Manchester City        365\n",
      "6                  Ajax        360\n",
      "7              FC Basel        344\n",
      "8     Manchester United        338\n",
      "9               Chelsea        333\n",
      "10  Paris Saint-Germain        332\n",
      "11           SL Benfica        321\n",
      "12      Atlético Madrid        321\n",
      "13       BSC Young Boys        319\n",
      "14             Juventus        307\n",
      "15              Arsenal        306\n",
      "16               Napoli        303\n",
      "17          Valencia CF        299\n",
      "18                 Roma        299\n",
      "19    Borussia Dortmund        298\n"
     ]
    }
   ],
   "source": [
    "# Q 10 get top 20 teams with the highest home goal\n",
    "top_home_goal = pd.read_sql_query('SELECT team_long_name, Sum(home_team_goal) AS home_goal \\\n",
    "FROM Team, Match \\\n",
    "WHERE team_api_id = home_team_api_id \\\n",
    "GROUP BY team_long_name \\\n",
    "ORDER BY Sum(home_team_goal) DESC Limit 20;', conn)\n",
    "print(top_home_goal)"
   ]
  },
  {
   "cell_type": "code",
   "execution_count": 31,
   "metadata": {},
   "outputs": [
    {
     "name": "stdout",
     "output_type": "stream",
     "text": [
      "         team_long_name  away_goal\n",
      "0          FC Barcelona        354\n",
      "1        Real Madrid CF        338\n",
      "2                Celtic        306\n",
      "3                  Ajax        287\n",
      "4                   PSV        282\n",
      "5              FC Basel        275\n",
      "6      FC Bayern Munich        271\n",
      "7               Arsenal        267\n",
      "8     Borussia Dortmund        253\n",
      "9               Chelsea        250\n",
      "10           SL Benfica        247\n",
      "11             FC Porto        246\n",
      "12    Manchester United        244\n",
      "13      Manchester City        241\n",
      "14            Liverpool        237\n",
      "15  Paris Saint-Germain        236\n",
      "16             Juventus        236\n",
      "17                 Roma        231\n",
      "18            FC Zürich        227\n",
      "19    Tottenham Hotspur        226\n"
     ]
    }
   ],
   "source": [
    "# Q11 get top 20 teams with the highest away goal\n",
    "\n",
    "top_away_goal = pd.read_sql_query('SELECT team_long_name, Sum(away_team_goal) AS away_goal \\\n",
    "FROM Team, Match \\\n",
    "WHERE team_api_id = away_team_api_id \\\n",
    "GROUP BY team_long_name \\\n",
    "ORDER BY Sum(away_team_goal) DESC Limit 20;', conn)\n",
    "print(top_away_goal)"
   ]
  },
  {
   "cell_type": "code",
   "execution_count": 14,
   "metadata": {},
   "outputs": [],
   "source": [
    "# Q12 \n",
    "# Calcule total point of each team by summing home and away_goal, group by home_team_api_id and union with away_team_api_id\n",
    "# subqueries in from clause (but how?) and join with team table."
   ]
  },
  {
   "cell_type": "code",
   "execution_count": 15,
   "metadata": {},
   "outputs": [
    {
     "name": "stdout",
     "output_type": "stream",
     "text": [
      "       team_long_name  totalGoal\n",
      "0      Real Madrid CF        652\n",
      "1        FC Barcelona        596\n",
      "2                 PSV        496\n",
      "3     Manchester City        490\n",
      "4      BSC Young Boys        485\n",
      "..                ...        ...\n",
      "291  Uniao da Madeira         36\n",
      "292          Trofense         35\n",
      "293        Angers SCO         35\n",
      "294          Feirense         32\n",
      "295           Amadora         31\n",
      "\n",
      "[296 rows x 2 columns]\n"
     ]
    }
   ],
   "source": [
    "# Q12 Get team long name with total of goal, order the total number by descending\n",
    "\n",
    "totalGoal = pd.read_sql_query(\n",
    "'SELECT HT.team_long_name, \\\n",
    "Sum(home_team_goal + away_team_goal) AS totalGoal \\\n",
    "FROM Match as M \\\n",
    "LEFT JOIN Team as HT ON HT.team_api_id = M.home_team_api_id \\\n",
    "LEFT JOIN Team as AT ON AT.team_api_id = M.away_team_api_id \\\n",
    "GROUP BY HT.team_long_name \\\n",
    "ORDER BY totalGoal DESC;', conn)\n",
    "\n",
    "print(totalGoal)"
   ]
  },
  {
   "cell_type": "code",
   "execution_count": 16,
   "metadata": {},
   "outputs": [
    {
     "name": "stdout",
     "output_type": "stream",
     "text": [
      "                   team_long_name  totalMatch\n",
      "0                     Valencia CF         152\n",
      "1                     Toulouse FC         152\n",
      "2               Tottenham Hotspur         152\n",
      "3                      Sunderland         152\n",
      "4                      Stoke City         152\n",
      "..                            ...         ...\n",
      "291  Termalica Bruk-Bet Nieciecza          15\n",
      "292                  Portimonense          15\n",
      "293                     KAS Eupen          15\n",
      "294                      Feirense          15\n",
      "295                       Amadora          15\n",
      "\n",
      "[296 rows x 2 columns]\n"
     ]
    }
   ],
   "source": [
    "# Q13 Get team long name with total of matches, order the total number by descending\n",
    "\n",
    "totalMatch = pd.read_sql_query('SELECT HT.team_long_name, \\\n",
    "Count(Distinct M.id) AS totalMatch FROM Match as M \\\n",
    "LEFT JOIN Team AS HT ON HT.team_api_id = M.home_team_api_id \\\n",
    "LEFT JOIN Team AS AT ON AT.team_api_id = M.away_team_api_id \\\n",
    "GROUP BY HT.team_long_name \\\n",
    "ORDER BY totalMatch DESC;', conn)\n",
    "print(totalMatch)"
   ]
  },
  {
   "cell_type": "code",
   "execution_count": 17,
   "metadata": {},
   "outputs": [
    {
     "name": "stdout",
     "output_type": "stream",
     "text": [
      "                team_long_name MatchResult\n",
      "0                     KRC Genk        draw\n",
      "1             SV Zulte-Waregem        draw\n",
      "2            KSV Cercle Brugge        lost\n",
      "3                     KAA Gent         win\n",
      "4                FCV Dender EH        lost\n",
      "...                        ...         ...\n",
      "25974            FC St. Gallen         win\n",
      "25975                 FC Vaduz        lost\n",
      "25976  Grasshopper Club Zürich         win\n",
      "25977                   Lugano        draw\n",
      "25978           BSC Young Boys         win\n",
      "\n",
      "[25979 rows x 2 columns]\n"
     ]
    }
   ],
   "source": [
    "# Q14 Get numbers of win, lost and draw matches of each team\n",
    "\n",
    "MatchResult = pd.read_sql_query(\"SELECT HT.team_long_name, \\\n",
    "CASE WHEN home_team_goal > away_team_goal THEN 'win' \\\n",
    "WHEN home_team_goal < away_team_goal THEN 'lost' \\\n",
    "ELSE 'draw' \\\n",
    "END AS MatchResult \\\n",
    "FROM Match AS M \\\n",
    "LEFT JOIN Team AS HT ON HT.team_api_id = M.home_team_api_id \\\n",
    "LEFT JOIN Team AS AT ON AT.team_api_id = M.away_team_api_id;\", conn)\n",
    "print(MatchResult)\n"
   ]
  },
  {
   "cell_type": "code",
   "execution_count": 18,
   "metadata": {},
   "outputs": [
    {
     "name": "stdout",
     "output_type": "stream",
     "text": [
      "               team_long_name MatchResult  Team_achievement\n",
      "0        1. FC Kaiserslautern         win                34\n",
      "1                  1. FC Köln        lost               102\n",
      "2              1. FC Nürnberg        lost                85\n",
      "3             1. FSV Mainz 05        draw               119\n",
      "4                  AC Ajaccio        lost                57\n",
      "..                        ...         ...               ...\n",
      "291      Xerez Club Deportivo        draw                19\n",
      "292            Zagłębie Lubin        draw                90\n",
      "293         Zawisza Bydgoszcz        lost                30\n",
      "294  Évian Thonon Gaillard FC        lost                76\n",
      "295             Śląsk Wrocław        draw               120\n",
      "\n",
      "[296 rows x 3 columns]\n"
     ]
    }
   ],
   "source": [
    "MatchResult2 = pd.read_sql_query(\"SELECT HT.team_long_name, \\\n",
    "CASE WHEN home_team_goal > away_team_goal THEN 'win' \\\n",
    "WHEN home_team_goal < away_team_goal THEN 'lost' \\\n",
    "ELSE 'draw' \\\n",
    "END AS MatchResult, \\\n",
    "Count(*) AS Team_achievement \\\n",
    "FROM Match AS M \\\n",
    "LEFT JOIN Team AS HT ON HT.team_api_id = M.home_team_api_id \\\n",
    "LEFT JOIN Team AS AT ON AT.team_api_id = M.away_team_api_id \\\n",
    "GROUP BY HT.team_long_name;\", conn)\n",
    "print(MatchResult2)\n"
   ]
  },
  {
   "cell_type": "code",
   "execution_count": 19,
   "metadata": {},
   "outputs": [
    {
     "name": "stdout",
     "output_type": "stream",
     "text": [
      "          Winning_team  Number_wins\n",
      "0         FC Barcelona          265\n",
      "1       Real Madrid CF          253\n",
      "2               Celtic          245\n",
      "3    Manchester United          233\n",
      "4             Juventus          225\n",
      "5     FC Bayern Munich          223\n",
      "6  Paris Saint-Germain          219\n",
      "7      Manchester City          218\n",
      "8             FC Basel          218\n",
      "9                 Ajax          216\n"
     ]
    }
   ],
   "source": [
    "# Q15 Get top 10 teams with the highest numbers of win matches\n",
    "\n",
    "top_winners = pd.read_sql_query(\"SELECT \\\n",
    "CASE WHEN home_team_goal > away_team_goal THEN HT.team_long_name \\\n",
    "ELSE AT.team_long_name \\\n",
    "END AS Winning_team, \\\n",
    "Count(*) AS Number_wins \\\n",
    "FROM Match AS M \\\n",
    "LEFT JOIN Team AS HT ON HT.team_api_id = M.home_team_api_id \\\n",
    "LEFT JOIN Team AS AT ON AT.team_api_id = M.away_team_api_id \\\n",
    "GROUP BY Winning_team \\\n",
    "ORDER BY Number_wins Desc limit 10;\", conn)\n",
    "print(top_winners)"
   ]
  },
  {
   "cell_type": "code",
   "execution_count": 20,
   "metadata": {},
   "outputs": [
    {
     "name": "stdout",
     "output_type": "stream",
     "text": [
      "                 League_name  PercentageJoin\n",
      "0     Belgium Jupiler League        6.651526\n",
      "1     England Premier League       11.701759\n",
      "2             France Ligue 1       11.701759\n",
      "3      Germany 1. Bundesliga        9.422995\n",
      "4              Italy Serie A       11.613226\n",
      "5     Netherlands Eredivisie        9.422995\n",
      "6         Poland Ekstraklasa        7.390585\n",
      "7   Portugal Liga ZON Sagres        7.898687\n",
      "8    Scotland Premier League        7.021055\n",
      "9            Spain LIGA BBVA       11.701759\n",
      "10  Switzerland Super League        5.473652\n"
     ]
    }
   ],
   "source": [
    "# Q16 Get percentage of each league to join the matches\n",
    "\n",
    "percentage_league = pd.read_sql_query(\"SELECT League.Name AS League_name, \\\n",
    "Count(Match.league_id)*100.0 / Sum(count(Match.league_id)) Over() \\\n",
    "AS PercentageJoin FROM League \\\n",
    "JOIN Match on League.id = Match.league_id \\\n",
    "GROUP BY League.Name;\", conn)\n",
    "print(percentage_league)"
   ]
  },
  {
   "cell_type": "code",
   "execution_count": 21,
   "metadata": {},
   "outputs": [
    {
     "name": "stdout",
     "output_type": "stream",
     "text": [
      "       league_id  goal\n",
      "0              1  None\n",
      "1              1  None\n",
      "2              1  None\n",
      "3              1  None\n",
      "4              1  None\n",
      "...          ...   ...\n",
      "25974      24558  None\n",
      "25975      24558  None\n",
      "25976      24558  None\n",
      "25977      24558  None\n",
      "25978      24558  None\n",
      "\n",
      "[25979 rows x 2 columns]\n"
     ]
    }
   ],
   "source": [
    "goal = pd.read_sql_query('SELECT league_id,goal FROM Match;', conn)\n",
    "print(goal)"
   ]
  },
  {
   "cell_type": "code",
   "execution_count": 22,
   "metadata": {},
   "outputs": [
    {
     "name": "stdout",
     "output_type": "stream",
     "text": [
      "                        name  totalGoal  percentageGoal\n",
      "0            Spain LIGA BBVA       8412       11.968074\n",
      "1     England Premier League       8240       11.723363\n",
      "2              Italy Serie A       7895       11.232518\n",
      "3     Netherlands Eredivisie       7542       10.730292\n",
      "4             France Ligue 1       7427       10.566677\n",
      "5      Germany 1. Bundesliga       7103       10.105709\n",
      "6   Portugal Liga ZON Sagres       5201        7.399661\n",
      "7     Belgium Jupiler League       4841        6.887476\n",
      "8    Scotland Premier League       4804        6.834834\n",
      "9         Poland Ekstraklasa       4656        6.624269\n",
      "10  Switzerland Super League       4166        5.927127\n"
     ]
    }
   ],
   "source": [
    "# Q17: Get percentage of score in each league   ?????\n",
    "\n",
    "GoalRate = pd.read_sql_query(\n",
    "'SELECT League.Name, \\\n",
    "Sum(home_team_goal + away_team_goal) AS totalGoal, \\\n",
    "Sum(home_team_goal + away_team_goal)*100.0 / Sum(Sum(home_team_goal + away_team_goal)) Over() \\\n",
    "AS percentageGoal FROM League \\\n",
    "JOIN Match AS M ON League.id = M.league_id \\\n",
    "LEFT JOIN Team AS HT ON HT.team_api_id = M.home_team_api_id \\\n",
    "LEFT JOIN Team AS AT ON AT.team_api_id = M.away_team_api_id \\\n",
    "GROUP BY League.Name \\\n",
    "ORDER BY totalGoal DESC;', conn)\n",
    "\n",
    "print(GoalRate)"
   ]
  },
  {
   "cell_type": "code",
   "execution_count": 23,
   "metadata": {},
   "outputs": [
    {
     "name": "stdout",
     "output_type": "stream",
     "text": [
      "          season\n",
      "0      2008/2009\n",
      "1      2008/2009\n",
      "2      2008/2009\n",
      "3      2008/2009\n",
      "4      2008/2009\n",
      "...          ...\n",
      "25974  2015/2016\n",
      "25975  2015/2016\n",
      "25976  2015/2016\n",
      "25977  2015/2016\n",
      "25978  2015/2016\n",
      "\n",
      "[25979 rows x 1 columns]\n"
     ]
    }
   ],
   "source": [
    "Season = pd.read_sql_query('SELECT season FROM Match;', conn)\n",
    "print(Season)"
   ]
  },
  {
   "cell_type": "code",
   "execution_count": 24,
   "metadata": {
    "scrolled": true
   },
   "outputs": [
    {
     "name": "stdout",
     "output_type": "stream",
     "text": [
      "                 league_name     season  total_goals\n",
      "0     Belgium Jupiler League  2015/2016          694\n",
      "1     Belgium Jupiler League  2014/2015          668\n",
      "2     Belgium Jupiler League  2013/2014           30\n",
      "3     Belgium Jupiler League  2012/2013          703\n",
      "4     Belgium Jupiler League  2011/2012          691\n",
      "..                       ...        ...          ...\n",
      "83  Switzerland Super League  2012/2013          462\n",
      "84  Switzerland Super League  2011/2012          425\n",
      "85  Switzerland Super League  2010/2011          537\n",
      "86  Switzerland Super League  2009/2010          599\n",
      "87  Switzerland Super League  2008/2009          540\n",
      "\n",
      "[88 rows x 3 columns]\n"
     ]
    }
   ],
   "source": [
    "# Q18: Get total numbers of goals for each league in each season\n",
    "\n",
    "seasonMatch = pd.read_sql_query('SELECT \\\n",
    "League.name AS league_name, \\\n",
    "season, \\\n",
    "Sum(home_team_goal+away_team_goal) AS total_goals \\\n",
    "FROM Match \\\n",
    "JOIN League ON League.id = Match.league_id \\\n",
    "LEFT JOIN Team AS HT ON HT.team_api_id = Match.home_team_api_id \\\n",
    "LEFT JOIN Team AS AT ON AT.team_api_id = Match.away_team_api_id \\\n",
    "GROUP BY League.name, season \\\n",
    "ORDER BY League.name, season DESC \\\n",
    ";', conn)\n",
    "print(seasonMatch)\n"
   ]
  },
  {
   "cell_type": "code",
   "execution_count": 25,
   "metadata": {},
   "outputs": [
    {
     "name": "stdout",
     "output_type": "stream",
     "text": [
      "               player_name  Height_meter  Weight_kg        Bmi  Age\n",
      "0       Aaron Appindangoye        1.8288  84.821773  25.361499   29\n",
      "1          Aaron Cresswell        1.7018  66.224486  22.866598   32\n",
      "2              Aaron Doran        1.7018  73.935556  25.529147   30\n",
      "3            Aaron Galindo        1.8288  89.811289  26.853352   39\n",
      "4             Aaron Hughes        1.8288  69.853225  20.885940   42\n",
      "...                    ...           ...        ...        ...  ...\n",
      "11055       Zoumana Camara        1.8288  76.203518  22.784662   42\n",
      "11056         Zsolt Laczko        1.8288  79.832257  23.869646   35\n",
      "11057            Zsolt Low        1.8034  69.853225  21.478420   42\n",
      "11058  Zurab Khizanishvili        1.8542  78.017888  22.692432   40\n",
      "11059   Zvjezdan Misimovic        1.8034  79.832257  24.546766   39\n",
      "\n",
      "[11060 rows x 5 columns]\n"
     ]
    }
   ],
   "source": [
    "# Q19: Get player attributes:\n",
    "\n",
    "player_attributes = pd.read_sql_query(\"SELECT player_name, \\\n",
    "height/100.0 AS Height_meter, \\\n",
    "weight* 0.45359237 AS Weight_kg, \\\n",
    "(weight*0.45359237)/((height/100.0)*(height/100.0)) AS Bmi, \\\n",
    "strftime('%Y', 'now') - strftime('%Y',birthday) AS Age \\\n",
    "FROM Player;\", conn)\n",
    "print(player_attributes)"
   ]
  },
  {
   "cell_type": "code",
   "execution_count": 26,
   "metadata": {},
   "outputs": [
    {
     "name": "stdout",
     "output_type": "stream",
     "text": [
      "       player_name  Age\n",
      "0  Alberto Fontana   54\n"
     ]
    }
   ],
   "source": [
    "# Q20: Get the oldest player\n",
    "\n",
    "oldestPlayer = pd.read_sql_query(\"SELECT player_name, \\\n",
    "strftime('%Y','now') - strftime('%Y', birthday) AS Age \\\n",
    "FROM Player ORDER BY Age DESC Limit 1;\", conn)\n",
    "print(oldestPlayer)"
   ]
  },
  {
   "cell_type": "code",
   "execution_count": 27,
   "metadata": {},
   "outputs": [
    {
     "name": "stdout",
     "output_type": "stream",
     "text": [
      "          player_name  noMatch\n",
      "0     Roberto Pereyra       56\n",
      "1       Alessio Cerci       56\n",
      "2     Sebastian Meoli       55\n",
      "3     Michael Bradley       54\n",
      "4      Yacine Brahimi       53\n",
      "5   Claudio Marchisio       53\n",
      "6  Zdravko Kuzmanovic       52\n",
      "7     Phillippe Mexes       51\n",
      "8                Alex       50\n",
      "9        Nacer Chadli       50\n"
     ]
    }
   ],
   "source": [
    "# Q21: Get players who played the most matches\n",
    "Date = pd.read_sql_query('SELECT player_name, \\\n",
    "Count(*) AS noMatch \\\n",
    "FROM Player AS P, Player_Attributes AS PA \\\n",
    "WHERE P.player_api_id = PA.player_api_id \\\n",
    "GROUP BY PA.player_api_id \\\n",
    "ORDER BY noMatch DESC Limit 10;', conn)\n",
    "print(Date)\n"
   ]
  },
  {
   "cell_type": "code",
   "execution_count": 28,
   "metadata": {},
   "outputs": [
    {
     "name": "stdout",
     "output_type": "stream",
     "text": [
      "           player_name  overall_rating\n",
      "0         Lionel Messi              94\n",
      "1    Cristiano Ronaldo              93\n",
      "2               Neymar              90\n",
      "3         Manuel Neuer              90\n",
      "4          Luis Suarez              90\n",
      "..                 ...             ...\n",
      "832    Afonso Alves,24              81\n",
      "833       Adrian Lopez              81\n",
      "834          Adil Rami              81\n",
      "835        Adem Ljajic              81\n",
      "836       Aaron Lennon              81\n",
      "\n",
      "[837 rows x 2 columns]\n"
     ]
    }
   ],
   "source": [
    "# Q22: Get players who had overall rating larger than 80\n",
    "RatingOver80 = pd.read_sql_query(\"SELECT player_name, overall_rating \\\n",
    "FROM Player, Player_Attributes \\\n",
    "WHERE Player.player_api_id = Player_Attributes.player_api_id \\\n",
    "AND overall_rating > 80 \\\n",
    "GROUP BY player_name \\\n",
    "ORDER BY overall_rating DESC;\", conn)\n",
    "print(RatingOver80)"
   ]
  },
  {
   "cell_type": "code",
   "execution_count": null,
   "metadata": {},
   "outputs": [],
   "source": []
  }
 ],
 "metadata": {
  "kernelspec": {
   "display_name": "Python 3",
   "language": "python",
   "name": "python3"
  },
  "language_info": {
   "codemirror_mode": {
    "name": "ipython",
    "version": 3
   },
   "file_extension": ".py",
   "mimetype": "text/x-python",
   "name": "python",
   "nbconvert_exporter": "python",
   "pygments_lexer": "ipython3",
   "version": "3.8.5"
  }
 },
 "nbformat": 4,
 "nbformat_minor": 4
}
