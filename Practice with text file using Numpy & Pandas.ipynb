{
 "cells": [
  {
   "cell_type": "markdown",
   "metadata": {},
   "source": [
    "# Using Pandas and Numpy for assignment 2\n",
    "\n",
    "### Pandas\n",
    "\n",
    "Using Pandas to read text file and turn into a table make it impossible to verify validity of lines in data files, given that the elimiter \",\" has disappeared and replaced by NaN values in all missing values, which I haven't found a way to handle. So with Pandas, I just finished at task 1, to open file with input from user and bring out the total lines of the file based on its shape.\n",
    "\n",
    "### Numpy\n",
    "\n",
    "Using Numpy to open text file by np.loadtxt. One problem arrives when the files with unmatch length of lines raise a valueerror (file 2, 4 for example). I haven't figured out a way to handle it. So with Numpy, I just finished the analyse with files that usually contains valid lines "
   ]
  },
  {
   "cell_type": "code",
   "execution_count": 1,
   "metadata": {},
   "outputs": [],
   "source": [
    "import numpy as np\n",
    "import pandas as pd"
   ]
  },
  {
   "cell_type": "code",
   "execution_count": 5,
   "metadata": {},
   "outputs": [
    {
     "name": "stdout",
     "output_type": "stream",
     "text": [
      "Enter the number of class: 1\n",
      "File open successfully\n",
      "Total lines of the file:  20\n"
     ]
    }
   ],
   "source": [
    "file_name = input(\"Enter the number of class: \")\n",
    "try:\n",
    "    column_names = [\"Student_ID\"] + list(range(1,26))\n",
    "    file = pd.read_csv(r\"Documents\\Data Science\\Assignment 2\\Data Files\\class\" + file_name+'.txt',\n",
    "                    header = None,\n",
    "                    index_col = 0,\n",
    "                    names = column_names)\n",
    "\n",
    "    print(\"File open successfully\")\n",
    "    print(\"Total lines of the file: \",file.shape[0])\n",
    "    \n",
    "except:\n",
    "     print(\"file not found\")"
   ]
  },
  {
   "cell_type": "code",
   "execution_count": 9,
   "metadata": {
    "scrolled": true
   },
   "outputs": [
    {
     "name": "stdout",
     "output_type": "stream",
     "text": [
      "Enter number of lass here (ex: 1,2,3..): 2\n",
      "Invalid lines, no match between data lines and shape of array\n"
     ]
    }
   ],
   "source": [
    "filename = input(\"Enter number of lass here (ex: 1,2,3..): \")\n",
    "try: \n",
    "    \n",
    "    file = np.loadtxt(r'Assignment 2\\Data Files\\class' + filename + '.txt', dtype = list, delimiter =\",\")\n",
    "\n",
    "    valid_line = 0\n",
    "    invalid_line = 0\n",
    "    score_list = []\n",
    "    \n",
    "    for i in range(0, len(file)):\n",
    "        grade_list = np.array([file[i][0]])\n",
    "        answer_key = [\"B\",\"A\",\"D\",\"D\",\"C\",\"B\",\"D\",\"A\",\"C\",\"C\",\"D\",\"B\",\"A\",\"B\",\"A\",\"C\",\"B\",\"D\",\"A\",\"C\",\"A\",\"A\",\"B\",\"D\",\"D\"]\n",
    "        if len(file[i]) == 26:\n",
    "            if len(file[i][0]) ==9:\n",
    "                if file[i][0][0] == 'N' and file[i][0][1:10].isdigit()== True:\n",
    "                    valid_line += 1\n",
    "\n",
    "                    t = file[i][1:len(file[i])]\n",
    "\n",
    "\n",
    "                    # calculating score by comparing the answer given in each valid line with answer_key\n",
    "                    score = 0\n",
    "                    for i, j in zip(t, answer_key):\n",
    "                        if i == \"\":\n",
    "                            score += 0\n",
    "\n",
    "                        elif i != j:\n",
    "                            score -=1\n",
    "\n",
    "                        else:\n",
    "                            score += 4\n",
    "\n",
    "                    score_list.append(score)\n",
    "\n",
    "                else:\n",
    "                    print(\"\\nInvalid line of data: N# is invalid\\n\")\n",
    "                    print(file[i])\n",
    "                    invalid_line += 1\n",
    "\n",
    "            else:\n",
    "                print(\"\\nInvalid line of data: Student ID does not contains 9 values\\n\")\n",
    "                print(file[i])\n",
    "                invalid_line += 1\n",
    "\n",
    "        else:\n",
    "            print(\"\\nInvalid line of data: Does not contain exactly 26 values\\n\")\n",
    "            print(file[i])\n",
    "            invalid_line += 1\n",
    "\n",
    "\n",
    "    if invalid_line == 0:\n",
    "        print(\"\\nNo errors found!\")\n",
    "    else:\n",
    "        pass\n",
    "\n",
    "    print(\"\\nTotal valid lines: \", valid_line)\n",
    "    print(\"\\nTotal invalid lines: \", invalid_line)\n",
    "    \n",
    "    score_list =np.array(score_list)\n",
    "\n",
    "    print(\"\\nAverage score: \", sum(score_list)/len(score_list))\n",
    "    print(\"\\nMax score: \", np.max(score_list))\n",
    "    print(\"\\nMin score: \", np.min(score_list))\n",
    "    print(\"\\nRange of scores: \", np.max(score_list) - np.min(score_list))\n",
    "\n",
    "    print(\"\\nMedian score: \", np.median(score_list))\n",
    "                \n",
    "except ValueError:\n",
    "    print(\"Invalid lines, no match between data lines and shape of array\")"
   ]
  },
  {
   "cell_type": "markdown",
   "metadata": {},
   "source": []
  },
  {
   "cell_type": "code",
   "execution_count": null,
   "metadata": {},
   "outputs": [],
   "source": []
  }
 ],
 "metadata": {
  "kernelspec": {
   "display_name": "Python 3",
   "language": "python",
   "name": "python3"
  },
  "language_info": {
   "codemirror_mode": {
    "name": "ipython",
    "version": 3
   },
   "file_extension": ".py",
   "mimetype": "text/x-python",
   "name": "python",
   "nbconvert_exporter": "python",
   "pygments_lexer": "ipython3",
   "version": "3.8.5"
  }
 },
 "nbformat": 4,
 "nbformat_minor": 4
}
