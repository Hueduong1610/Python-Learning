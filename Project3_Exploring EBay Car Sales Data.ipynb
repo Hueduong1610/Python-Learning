{
 "cells": [
  {
   "cell_type": "markdown",
   "metadata": {},
   "source": [
    "# About the project\n",
    "\n",
    "This project works with a dataset of used cars from eBay Kleinanzeigen, which was originally scraped and uploaded to Kaggle by user **Orgesleka**. You can find the dataset [here](https://data.world/data-society/used-cars-data).\n",
    "The dataset used in this project was a sample of 50,000 data points which have been modified by [Dataquest.io](https://app.dataquest.io) to more closely resemble what of a scraped dataset. \n",
    "\n",
    "The data dictionary provided with data is as follows: \n",
    "> - *dateCrawled* - When this ad was first crawled. All field-values are taken from this date.\n",
    "> - *name* - Name of the car.\n",
    "> - *seller* - Whether the seller is private or a dealer.\n",
    "> - *offerType* - The type of listing\n",
    "> - *price* - The price on the ad to sell the car.\n",
    "> - *abtest* - Whether the listing is included in an A/B test.\n",
    "> - *vehicleType* - The vehicle Type.\n",
    "> - *yearOfRegistration* - The year in which the car was first registered.\n",
    "> - *gearbox* - The transmission type.\n",
    "> - *powerPS* - The power of the car in PS.\n",
    "> - *model* - The car model name.\n",
    "> - *kilometer* - How many kilometers the car has driven.\n",
    "> - *monthOfRegistration* - The month in which the car was first registered.\n",
    "> - *fuelType* - What type of fuel the car uses.\n",
    "> - *brand* - The brand of the car.\n",
    "> - *notRepairedDamage* - If the car has a damage which is not yet repaired.\n",
    "> - *dateCreated* - The date on which the eBay listing was created.\n",
    "> - *nrOfPictures* - The number of pictures in the ad.\n",
    "> - *postalCode* - The postal code for the location of the vehicle.\n",
    "> - *lastSeenOnline* - When the crawler saw this ad last online.\n",
    "\n",
    "The aim of the project is to practice cleaning the data and do some basic analysis on the included used car listings. \n",
    "> - Clean strings: remove whitespaces, upper - lower cases, remove special cases, etc\n",
    "> - Clean numeric data: missing values, wrong data type\n",
    "> - Modify dataset's columns name\n",
    "\n",
    "By analysing the dataset, we can answer the following questions:\n",
    "\n",
    "> 1) Which seller and offer type are the most common on the website?\n",
    "\n",
    "> 2) Cars in which price range are the most preferable?\n",
    "\n",
    "> 3) More information of the included cars relating to registration year and month\n",
    "\n",
    "## Import necessary libraries and data overall\n"
   ]
  },
  {
   "cell_type": "code",
   "execution_count": 1,
   "metadata": {},
   "outputs": [],
   "source": [
    "import pandas as pd\n",
    "import numpy as np\n",
    "import datetime as dt\n",
    "\n",
    "autos = pd.read_csv(r\"Desktop\\New folder\\project3\\autos.csv\", encoding = \"Latin-1\")\n"
   ]
  },
  {
   "cell_type": "code",
   "execution_count": 2,
   "metadata": {},
   "outputs": [
    {
     "name": "stdout",
     "output_type": "stream",
     "text": [
      "<class 'pandas.core.frame.DataFrame'>\n",
      "RangeIndex: 50000 entries, 0 to 49999\n",
      "Data columns (total 20 columns):\n",
      " #   Column               Non-Null Count  Dtype \n",
      "---  ------               --------------  ----- \n",
      " 0   dateCrawled          50000 non-null  object\n",
      " 1   name                 50000 non-null  object\n",
      " 2   seller               50000 non-null  object\n",
      " 3   offerType            50000 non-null  object\n",
      " 4   price                50000 non-null  object\n",
      " 5   abtest               50000 non-null  object\n",
      " 6   vehicleType          44905 non-null  object\n",
      " 7   yearOfRegistration   50000 non-null  int64 \n",
      " 8   gearbox              47320 non-null  object\n",
      " 9   powerPS              50000 non-null  int64 \n",
      " 10  model                47242 non-null  object\n",
      " 11  odometer             50000 non-null  object\n",
      " 12  monthOfRegistration  50000 non-null  int64 \n",
      " 13  fuelType             45518 non-null  object\n",
      " 14  brand                50000 non-null  object\n",
      " 15  notRepairedDamage    40171 non-null  object\n",
      " 16  dateCreated          50000 non-null  object\n",
      " 17  nrOfPictures         50000 non-null  int64 \n",
      " 18  postalCode           50000 non-null  int64 \n",
      " 19  lastSeen             50000 non-null  object\n",
      "dtypes: int64(5), object(15)\n",
      "memory usage: 7.6+ MB\n",
      "None\n",
      "           dateCrawled                                               name  \\\n",
      "0  2016-03-26 17:47:46                   Peugeot_807_160_NAVTECH_ON_BOARD   \n",
      "1  2016-04-04 13:38:56         BMW_740i_4_4_Liter_HAMANN_UMBAU_Mega_Optik   \n",
      "2  2016-03-26 18:57:24                         Volkswagen_Golf_1.6_United   \n",
      "3  2016-03-12 16:58:10  Smart_smart_fortwo_coupe_softouch/F1/Klima/Pan...   \n",
      "4  2016-04-01 14:38:50  Ford_Focus_1_6_Benzin_TÜV_neu_ist_sehr_gepfleg...   \n",
      "\n",
      "   seller offerType   price   abtest vehicleType  yearOfRegistration  \\\n",
      "0  privat   Angebot  $5,000  control         bus                2004   \n",
      "1  privat   Angebot  $8,500  control   limousine                1997   \n",
      "2  privat   Angebot  $8,990     test   limousine                2009   \n",
      "3  privat   Angebot  $4,350  control  kleinwagen                2007   \n",
      "4  privat   Angebot  $1,350     test       kombi                2003   \n",
      "\n",
      "     gearbox  powerPS   model   odometer  monthOfRegistration fuelType  \\\n",
      "0    manuell      158  andere  150,000km                    3      lpg   \n",
      "1  automatik      286     7er  150,000km                    6   benzin   \n",
      "2    manuell      102    golf   70,000km                    7   benzin   \n",
      "3  automatik       71  fortwo   70,000km                    6   benzin   \n",
      "4    manuell        0   focus  150,000km                    7   benzin   \n",
      "\n",
      "        brand notRepairedDamage          dateCreated  nrOfPictures  \\\n",
      "0     peugeot              nein  2016-03-26 00:00:00             0   \n",
      "1         bmw              nein  2016-04-04 00:00:00             0   \n",
      "2  volkswagen              nein  2016-03-26 00:00:00             0   \n",
      "3       smart              nein  2016-03-12 00:00:00             0   \n",
      "4        ford              nein  2016-04-01 00:00:00             0   \n",
      "\n",
      "   postalCode             lastSeen  \n",
      "0       79588  2016-04-06 06:45:54  \n",
      "1       71034  2016-04-06 14:45:08  \n",
      "2       35394  2016-04-06 20:15:37  \n",
      "3       33729  2016-03-15 03:16:28  \n",
      "4       39218  2016-04-01 14:38:50  \n"
     ]
    }
   ],
   "source": [
    "print(autos.info())\n",
    "print(autos.head(5))"
   ]
  },
  {
   "cell_type": "markdown",
   "metadata": {},
   "source": [
    "The dataset has totally 20 columns and we noticed that several columns consist of null value: vehicleType, gearbox, model, fuelType, notRepairedDamage. However, none of them have more than ~20% null values\n",
    "\n",
    "The columns' name use camelcase instead of snakecase and not consistent in style with both lower and upper cases, which makes selecting data more difficult later. \n",
    "\n",
    "Therefore, we will modify the columns's name to make it easier to analyze, using Series.map method."
   ]
  },
  {
   "cell_type": "code",
   "execution_count": 3,
   "metadata": {},
   "outputs": [
    {
     "name": "stdout",
     "output_type": "stream",
     "text": [
      "Index(['dateCrawled', 'name', 'seller', 'offerType', 'price', 'abtest',\n",
      "       'vehicleType', 'yearOfRegistration', 'gearbox', 'powerPS', 'model',\n",
      "       'odometer', 'monthOfRegistration', 'fuelType', 'brand',\n",
      "       'notRepairedDamage', 'dateCreated', 'nrOfPictures', 'postalCode',\n",
      "       'lastSeen'],\n",
      "      dtype='object')\n"
     ]
    }
   ],
   "source": [
    "column = autos.columns\n",
    "print(column)"
   ]
  },
  {
   "cell_type": "code",
   "execution_count": 4,
   "metadata": {},
   "outputs": [],
   "source": [
    "column_modified = {'dateCrawled': 'date_crawled', \n",
    "                   'name':'name', \n",
    "                   'seller':'seller', \n",
    "                   'offerType':'offer_type', \n",
    "                   'price':'price', \n",
    "                   'abtest':'abtest',\n",
    "                   'vehicleType':'vehicle_type', \n",
    "                   'yearOfRegistration': 'registration_year', \n",
    "                   'gearbox':'gearbox', \n",
    "                   'powerPS': 'power_ps', \n",
    "                   'model':'model',\n",
    "                   'odometer':'odometer',\n",
    "                   'monthOfRegistration':'registration_month',\n",
    "                   'fuelType':'fuel_type', \n",
    "                   'brand':'brand',\n",
    "                   'notRepairedDamage':'unrepaired_damage', \n",
    "                   'dateCreated':'ad_created', \n",
    "                   'nrOfPictures':'no_pictures', \n",
    "                   'postalCode': 'postal_code',\n",
    "                   'lastSeen':'last_seen'}"
   ]
  },
  {
   "cell_type": "code",
   "execution_count": 5,
   "metadata": {},
   "outputs": [],
   "source": [
    "column = column.map(column_modified)"
   ]
  },
  {
   "cell_type": "code",
   "execution_count": 6,
   "metadata": {},
   "outputs": [
    {
     "name": "stdout",
     "output_type": "stream",
     "text": [
      "Index(['date_crawled', 'name', 'seller', 'offer_type', 'price', 'abtest',\n",
      "       'vehicle_type', 'registration_year', 'gearbox', 'power_ps', 'model',\n",
      "       'odometer', 'registration_month', 'fuel_type', 'brand',\n",
      "       'unrepaired_damage', 'ad_created', 'no_pictures', 'postal_code',\n",
      "       'last_seen'],\n",
      "      dtype='object')\n"
     ]
    }
   ],
   "source": [
    "print(column)"
   ]
  },
  {
   "cell_type": "code",
   "execution_count": 7,
   "metadata": {},
   "outputs": [],
   "source": [
    "autos.columns = column"
   ]
  },
  {
   "cell_type": "code",
   "execution_count": 8,
   "metadata": {},
   "outputs": [
    {
     "data": {
      "text/html": [
       "<div>\n",
       "<style scoped>\n",
       "    .dataframe tbody tr th:only-of-type {\n",
       "        vertical-align: middle;\n",
       "    }\n",
       "\n",
       "    .dataframe tbody tr th {\n",
       "        vertical-align: top;\n",
       "    }\n",
       "\n",
       "    .dataframe thead th {\n",
       "        text-align: right;\n",
       "    }\n",
       "</style>\n",
       "<table border=\"1\" class=\"dataframe\">\n",
       "  <thead>\n",
       "    <tr style=\"text-align: right;\">\n",
       "      <th></th>\n",
       "      <th>date_crawled</th>\n",
       "      <th>name</th>\n",
       "      <th>seller</th>\n",
       "      <th>offer_type</th>\n",
       "      <th>price</th>\n",
       "      <th>abtest</th>\n",
       "      <th>vehicle_type</th>\n",
       "      <th>registration_year</th>\n",
       "      <th>gearbox</th>\n",
       "      <th>power_ps</th>\n",
       "      <th>model</th>\n",
       "      <th>odometer</th>\n",
       "      <th>registration_month</th>\n",
       "      <th>fuel_type</th>\n",
       "      <th>brand</th>\n",
       "      <th>unrepaired_damage</th>\n",
       "      <th>ad_created</th>\n",
       "      <th>no_pictures</th>\n",
       "      <th>postal_code</th>\n",
       "      <th>last_seen</th>\n",
       "    </tr>\n",
       "  </thead>\n",
       "  <tbody>\n",
       "    <tr>\n",
       "      <th>0</th>\n",
       "      <td>2016-03-26 17:47:46</td>\n",
       "      <td>Peugeot_807_160_NAVTECH_ON_BOARD</td>\n",
       "      <td>privat</td>\n",
       "      <td>Angebot</td>\n",
       "      <td>$5,000</td>\n",
       "      <td>control</td>\n",
       "      <td>bus</td>\n",
       "      <td>2004</td>\n",
       "      <td>manuell</td>\n",
       "      <td>158</td>\n",
       "      <td>andere</td>\n",
       "      <td>150,000km</td>\n",
       "      <td>3</td>\n",
       "      <td>lpg</td>\n",
       "      <td>peugeot</td>\n",
       "      <td>nein</td>\n",
       "      <td>2016-03-26 00:00:00</td>\n",
       "      <td>0</td>\n",
       "      <td>79588</td>\n",
       "      <td>2016-04-06 06:45:54</td>\n",
       "    </tr>\n",
       "    <tr>\n",
       "      <th>1</th>\n",
       "      <td>2016-04-04 13:38:56</td>\n",
       "      <td>BMW_740i_4_4_Liter_HAMANN_UMBAU_Mega_Optik</td>\n",
       "      <td>privat</td>\n",
       "      <td>Angebot</td>\n",
       "      <td>$8,500</td>\n",
       "      <td>control</td>\n",
       "      <td>limousine</td>\n",
       "      <td>1997</td>\n",
       "      <td>automatik</td>\n",
       "      <td>286</td>\n",
       "      <td>7er</td>\n",
       "      <td>150,000km</td>\n",
       "      <td>6</td>\n",
       "      <td>benzin</td>\n",
       "      <td>bmw</td>\n",
       "      <td>nein</td>\n",
       "      <td>2016-04-04 00:00:00</td>\n",
       "      <td>0</td>\n",
       "      <td>71034</td>\n",
       "      <td>2016-04-06 14:45:08</td>\n",
       "    </tr>\n",
       "    <tr>\n",
       "      <th>2</th>\n",
       "      <td>2016-03-26 18:57:24</td>\n",
       "      <td>Volkswagen_Golf_1.6_United</td>\n",
       "      <td>privat</td>\n",
       "      <td>Angebot</td>\n",
       "      <td>$8,990</td>\n",
       "      <td>test</td>\n",
       "      <td>limousine</td>\n",
       "      <td>2009</td>\n",
       "      <td>manuell</td>\n",
       "      <td>102</td>\n",
       "      <td>golf</td>\n",
       "      <td>70,000km</td>\n",
       "      <td>7</td>\n",
       "      <td>benzin</td>\n",
       "      <td>volkswagen</td>\n",
       "      <td>nein</td>\n",
       "      <td>2016-03-26 00:00:00</td>\n",
       "      <td>0</td>\n",
       "      <td>35394</td>\n",
       "      <td>2016-04-06 20:15:37</td>\n",
       "    </tr>\n",
       "    <tr>\n",
       "      <th>3</th>\n",
       "      <td>2016-03-12 16:58:10</td>\n",
       "      <td>Smart_smart_fortwo_coupe_softouch/F1/Klima/Pan...</td>\n",
       "      <td>privat</td>\n",
       "      <td>Angebot</td>\n",
       "      <td>$4,350</td>\n",
       "      <td>control</td>\n",
       "      <td>kleinwagen</td>\n",
       "      <td>2007</td>\n",
       "      <td>automatik</td>\n",
       "      <td>71</td>\n",
       "      <td>fortwo</td>\n",
       "      <td>70,000km</td>\n",
       "      <td>6</td>\n",
       "      <td>benzin</td>\n",
       "      <td>smart</td>\n",
       "      <td>nein</td>\n",
       "      <td>2016-03-12 00:00:00</td>\n",
       "      <td>0</td>\n",
       "      <td>33729</td>\n",
       "      <td>2016-03-15 03:16:28</td>\n",
       "    </tr>\n",
       "    <tr>\n",
       "      <th>4</th>\n",
       "      <td>2016-04-01 14:38:50</td>\n",
       "      <td>Ford_Focus_1_6_Benzin_TÜV_neu_ist_sehr_gepfleg...</td>\n",
       "      <td>privat</td>\n",
       "      <td>Angebot</td>\n",
       "      <td>$1,350</td>\n",
       "      <td>test</td>\n",
       "      <td>kombi</td>\n",
       "      <td>2003</td>\n",
       "      <td>manuell</td>\n",
       "      <td>0</td>\n",
       "      <td>focus</td>\n",
       "      <td>150,000km</td>\n",
       "      <td>7</td>\n",
       "      <td>benzin</td>\n",
       "      <td>ford</td>\n",
       "      <td>nein</td>\n",
       "      <td>2016-04-01 00:00:00</td>\n",
       "      <td>0</td>\n",
       "      <td>39218</td>\n",
       "      <td>2016-04-01 14:38:50</td>\n",
       "    </tr>\n",
       "  </tbody>\n",
       "</table>\n",
       "</div>"
      ],
      "text/plain": [
       "          date_crawled                                               name  \\\n",
       "0  2016-03-26 17:47:46                   Peugeot_807_160_NAVTECH_ON_BOARD   \n",
       "1  2016-04-04 13:38:56         BMW_740i_4_4_Liter_HAMANN_UMBAU_Mega_Optik   \n",
       "2  2016-03-26 18:57:24                         Volkswagen_Golf_1.6_United   \n",
       "3  2016-03-12 16:58:10  Smart_smart_fortwo_coupe_softouch/F1/Klima/Pan...   \n",
       "4  2016-04-01 14:38:50  Ford_Focus_1_6_Benzin_TÜV_neu_ist_sehr_gepfleg...   \n",
       "\n",
       "   seller offer_type   price   abtest vehicle_type  registration_year  \\\n",
       "0  privat    Angebot  $5,000  control          bus               2004   \n",
       "1  privat    Angebot  $8,500  control    limousine               1997   \n",
       "2  privat    Angebot  $8,990     test    limousine               2009   \n",
       "3  privat    Angebot  $4,350  control   kleinwagen               2007   \n",
       "4  privat    Angebot  $1,350     test        kombi               2003   \n",
       "\n",
       "     gearbox  power_ps   model   odometer  registration_month fuel_type  \\\n",
       "0    manuell       158  andere  150,000km                   3       lpg   \n",
       "1  automatik       286     7er  150,000km                   6    benzin   \n",
       "2    manuell       102    golf   70,000km                   7    benzin   \n",
       "3  automatik        71  fortwo   70,000km                   6    benzin   \n",
       "4    manuell         0   focus  150,000km                   7    benzin   \n",
       "\n",
       "        brand unrepaired_damage           ad_created  no_pictures  \\\n",
       "0     peugeot              nein  2016-03-26 00:00:00            0   \n",
       "1         bmw              nein  2016-04-04 00:00:00            0   \n",
       "2  volkswagen              nein  2016-03-26 00:00:00            0   \n",
       "3       smart              nein  2016-03-12 00:00:00            0   \n",
       "4        ford              nein  2016-04-01 00:00:00            0   \n",
       "\n",
       "   postal_code            last_seen  \n",
       "0        79588  2016-04-06 06:45:54  \n",
       "1        71034  2016-04-06 14:45:08  \n",
       "2        35394  2016-04-06 20:15:37  \n",
       "3        33729  2016-03-15 03:16:28  \n",
       "4        39218  2016-04-01 14:38:50  "
      ]
     },
     "execution_count": 8,
     "metadata": {},
     "output_type": "execute_result"
    }
   ],
   "source": [
    "autos.head()"
   ]
  },
  {
   "cell_type": "markdown",
   "metadata": {},
   "source": [
    "Now, take a closer look at the dataset to see if any cleaning is neccessary."
   ]
  },
  {
   "cell_type": "code",
   "execution_count": 9,
   "metadata": {
    "scrolled": true
   },
   "outputs": [
    {
     "name": "stdout",
     "output_type": "stream",
     "text": [
      "               date_crawled         name  seller offer_type  price abtest  \\\n",
      "count                 50000        50000   50000      50000  50000  50000   \n",
      "unique                48213        38754       2          2   2357      2   \n",
      "top     2016-04-04 16:40:33  Ford_Fiesta  privat    Angebot     $0   test   \n",
      "freq                      3           78   49999      49999   1421  25756   \n",
      "mean                    NaN          NaN     NaN        NaN    NaN    NaN   \n",
      "std                     NaN          NaN     NaN        NaN    NaN    NaN   \n",
      "min                     NaN          NaN     NaN        NaN    NaN    NaN   \n",
      "25%                     NaN          NaN     NaN        NaN    NaN    NaN   \n",
      "50%                     NaN          NaN     NaN        NaN    NaN    NaN   \n",
      "75%                     NaN          NaN     NaN        NaN    NaN    NaN   \n",
      "max                     NaN          NaN     NaN        NaN    NaN    NaN   \n",
      "\n",
      "       vehicle_type  registration_year  gearbox      power_ps  model  \\\n",
      "count         44905       50000.000000    47320  50000.000000  47242   \n",
      "unique            8                NaN        2           NaN    245   \n",
      "top       limousine                NaN  manuell           NaN   golf   \n",
      "freq          12859                NaN    36993           NaN   4024   \n",
      "mean            NaN        2005.073280      NaN    116.355920    NaN   \n",
      "std             NaN         105.712813      NaN    209.216627    NaN   \n",
      "min             NaN        1000.000000      NaN      0.000000    NaN   \n",
      "25%             NaN        1999.000000      NaN     70.000000    NaN   \n",
      "50%             NaN        2003.000000      NaN    105.000000    NaN   \n",
      "75%             NaN        2008.000000      NaN    150.000000    NaN   \n",
      "max             NaN        9999.000000      NaN  17700.000000    NaN   \n",
      "\n",
      "         odometer  registration_month fuel_type       brand unrepaired_damage  \\\n",
      "count       50000        50000.000000     45518       50000             40171   \n",
      "unique         13                 NaN         7          40                 2   \n",
      "top     150,000km                 NaN    benzin  volkswagen              nein   \n",
      "freq        32424                 NaN     30107       10687             35232   \n",
      "mean          NaN            5.723360       NaN         NaN               NaN   \n",
      "std           NaN            3.711984       NaN         NaN               NaN   \n",
      "min           NaN            0.000000       NaN         NaN               NaN   \n",
      "25%           NaN            3.000000       NaN         NaN               NaN   \n",
      "50%           NaN            6.000000       NaN         NaN               NaN   \n",
      "75%           NaN            9.000000       NaN         NaN               NaN   \n",
      "max           NaN           12.000000       NaN         NaN               NaN   \n",
      "\n",
      "                 ad_created  no_pictures   postal_code            last_seen  \n",
      "count                 50000      50000.0  50000.000000                50000  \n",
      "unique                   76          NaN           NaN                39481  \n",
      "top     2016-04-03 00:00:00          NaN           NaN  2016-04-07 06:17:27  \n",
      "freq                   1946          NaN           NaN                    8  \n",
      "mean                    NaN          0.0  50813.627300                  NaN  \n",
      "std                     NaN          0.0  25779.747957                  NaN  \n",
      "min                     NaN          0.0   1067.000000                  NaN  \n",
      "25%                     NaN          0.0  30451.000000                  NaN  \n",
      "50%                     NaN          0.0  49577.000000                  NaN  \n",
      "75%                     NaN          0.0  71540.000000                  NaN  \n",
      "max                     NaN          0.0  99998.000000                  NaN  \n"
     ]
    }
   ],
   "source": [
    "print(autos.describe(include = 'all'))"
   ]
  },
  {
   "cell_type": "markdown",
   "metadata": {},
   "source": [
    "Firstly, we noticed that no_pictures of only 0.0 values, so we can remove it from the dataset, and also postal_code can be changed to nonnumeric data type. Besides, seller and offer_type columns seem to be strongly skewed by one value. Let's see if we can remove these columns as well."
   ]
  },
  {
   "cell_type": "code",
   "execution_count": 10,
   "metadata": {
    "scrolled": true
   },
   "outputs": [],
   "source": [
    "autos = autos.drop('no_pictures', axis = 1)\n",
    "autos['postal_code'] = autos['postal_code'].astype(object)"
   ]
  },
  {
   "cell_type": "code",
   "execution_count": 11,
   "metadata": {
    "scrolled": true
   },
   "outputs": [
    {
     "name": "stdout",
     "output_type": "stream",
     "text": [
      "privat        49999\n",
      "gewerblich        1\n",
      "Name: seller, dtype: int64\n",
      "Angebot    49999\n",
      "Gesuch         1\n",
      "Name: offer_type, dtype: int64\n"
     ]
    }
   ],
   "source": [
    "print(autos['seller'].value_counts())\n",
    "print(autos['offer_type'].value_counts())"
   ]
  },
  {
   "cell_type": "markdown",
   "metadata": {},
   "source": [
    "So generally **cars were sold by private sellers and offered by Angebot**\n",
    "\n",
    "## Clean numeric data\n",
    "\n",
    "Secondly, it seemed that some numeric columns have values stored as text. We need to investigate more these columns. Let's do with price and odometer columns."
   ]
  },
  {
   "cell_type": "code",
   "execution_count": 12,
   "metadata": {},
   "outputs": [
    {
     "name": "stdout",
     "output_type": "stream",
     "text": [
      "$0         1421\n",
      "$500        781\n",
      "$1,500      734\n",
      "$2,500      643\n",
      "$1,000      639\n",
      "           ... \n",
      "$54,990       1\n",
      "$122          1\n",
      "$32,800       1\n",
      "$18,399       1\n",
      "$7,298        1\n",
      "Name: price, Length: 2357, dtype: int64\n"
     ]
    }
   ],
   "source": [
    "print(autos['price'].value_counts())\n"
   ]
  },
  {
   "cell_type": "markdown",
   "metadata": {},
   "source": [
    "With price column, we need to remove $ and \",\" sign in the price and assign the column to integer datatype. "
   ]
  },
  {
   "cell_type": "code",
   "execution_count": 13,
   "metadata": {},
   "outputs": [],
   "source": [
    "autos['price'] = autos['price'].str.replace(\"$\",\"\")\n",
    "autos['price'] = autos['price'].str.replace(\",\",\"\")\n",
    "autos['price'] = autos['price'].astype(int)"
   ]
  },
  {
   "cell_type": "code",
   "execution_count": 14,
   "metadata": {},
   "outputs": [
    {
     "name": "stdout",
     "output_type": "stream",
     "text": [
      "150,000km    32424\n",
      "125,000km     5170\n",
      "100,000km     2169\n",
      "90,000km      1757\n",
      "80,000km      1436\n",
      "70,000km      1230\n",
      "60,000km      1164\n",
      "50,000km      1027\n",
      "5,000km        967\n",
      "40,000km       819\n",
      "30,000km       789\n",
      "20,000km       784\n",
      "10,000km       264\n",
      "Name: odometer, dtype: int64\n"
     ]
    }
   ],
   "source": [
    "print(autos['odometer'].value_counts())"
   ]
  },
  {
   "cell_type": "markdown",
   "metadata": {},
   "source": [
    "Similarly, with odometer column, we need to remove \"km\" and \",\" before assigning the data to int type."
   ]
  },
  {
   "cell_type": "code",
   "execution_count": 15,
   "metadata": {},
   "outputs": [],
   "source": [
    "autos['odometer'] = autos['odometer'].str.replace('km',\"\").str.replace(\",\",\"\")\n",
    "autos['odometer'] = autos['odometer'].astype(int)"
   ]
  },
  {
   "cell_type": "markdown",
   "metadata": {},
   "source": [
    "Also, We need to change the columns name to make them understandable."
   ]
  },
  {
   "cell_type": "code",
   "execution_count": 16,
   "metadata": {},
   "outputs": [],
   "source": [
    "autos.rename({\"price\":\"price_usd\", \"odometer\":\"odometer_km\"}, axis = 1, inplace = True)\n"
   ]
  },
  {
   "cell_type": "code",
   "execution_count": 17,
   "metadata": {},
   "outputs": [
    {
     "data": {
      "text/html": [
       "<div>\n",
       "<style scoped>\n",
       "    .dataframe tbody tr th:only-of-type {\n",
       "        vertical-align: middle;\n",
       "    }\n",
       "\n",
       "    .dataframe tbody tr th {\n",
       "        vertical-align: top;\n",
       "    }\n",
       "\n",
       "    .dataframe thead th {\n",
       "        text-align: right;\n",
       "    }\n",
       "</style>\n",
       "<table border=\"1\" class=\"dataframe\">\n",
       "  <thead>\n",
       "    <tr style=\"text-align: right;\">\n",
       "      <th></th>\n",
       "      <th>price_usd</th>\n",
       "      <th>odometer_km</th>\n",
       "    </tr>\n",
       "  </thead>\n",
       "  <tbody>\n",
       "    <tr>\n",
       "      <th>count</th>\n",
       "      <td>5.000000e+04</td>\n",
       "      <td>50000.000000</td>\n",
       "    </tr>\n",
       "    <tr>\n",
       "      <th>mean</th>\n",
       "      <td>9.840044e+03</td>\n",
       "      <td>125732.700000</td>\n",
       "    </tr>\n",
       "    <tr>\n",
       "      <th>std</th>\n",
       "      <td>4.811044e+05</td>\n",
       "      <td>40042.211706</td>\n",
       "    </tr>\n",
       "    <tr>\n",
       "      <th>min</th>\n",
       "      <td>0.000000e+00</td>\n",
       "      <td>5000.000000</td>\n",
       "    </tr>\n",
       "    <tr>\n",
       "      <th>25%</th>\n",
       "      <td>1.100000e+03</td>\n",
       "      <td>125000.000000</td>\n",
       "    </tr>\n",
       "    <tr>\n",
       "      <th>50%</th>\n",
       "      <td>2.950000e+03</td>\n",
       "      <td>150000.000000</td>\n",
       "    </tr>\n",
       "    <tr>\n",
       "      <th>75%</th>\n",
       "      <td>7.200000e+03</td>\n",
       "      <td>150000.000000</td>\n",
       "    </tr>\n",
       "    <tr>\n",
       "      <th>max</th>\n",
       "      <td>1.000000e+08</td>\n",
       "      <td>150000.000000</td>\n",
       "    </tr>\n",
       "  </tbody>\n",
       "</table>\n",
       "</div>"
      ],
      "text/plain": [
       "          price_usd    odometer_km\n",
       "count  5.000000e+04   50000.000000\n",
       "mean   9.840044e+03  125732.700000\n",
       "std    4.811044e+05   40042.211706\n",
       "min    0.000000e+00    5000.000000\n",
       "25%    1.100000e+03  125000.000000\n",
       "50%    2.950000e+03  150000.000000\n",
       "75%    7.200000e+03  150000.000000\n",
       "max    1.000000e+08  150000.000000"
      ]
     },
     "execution_count": 17,
     "metadata": {},
     "output_type": "execute_result"
    }
   ],
   "source": [
    "autos[['price_usd','odometer_km']].describe()"
   ]
  },
  {
   "cell_type": "markdown",
   "metadata": {},
   "source": [
    "We notice that there is a great gap between percentile 75%/maximum and the first half of price range. Meanwhile, a gap between minimum odometer km and the remain data is also observed. \n",
    "\n",
    "Also, it is impossible for minimum price to be 0$. Let's try to find the more reasonable price range here. \n"
   ]
  },
  {
   "cell_type": "code",
   "execution_count": 18,
   "metadata": {},
   "outputs": [
    {
     "name": "stdout",
     "output_type": "stream",
     "text": [
      "0      1421\n",
      "1       156\n",
      "2         3\n",
      "3         1\n",
      "5         2\n",
      "8         1\n",
      "9         1\n",
      "10        7\n",
      "11        2\n",
      "12        3\n",
      "13        2\n",
      "14        1\n",
      "15        2\n",
      "17        3\n",
      "18        1\n",
      "20        4\n",
      "25        5\n",
      "29        1\n",
      "30        7\n",
      "35        1\n",
      "40        6\n",
      "45        4\n",
      "47        1\n",
      "49        4\n",
      "50       49\n",
      "55        2\n",
      "59        1\n",
      "60        9\n",
      "65        5\n",
      "66        1\n",
      "70       10\n",
      "75        5\n",
      "79        1\n",
      "80       15\n",
      "89        1\n",
      "90        5\n",
      "99       19\n",
      "100     134\n",
      "110       3\n",
      "111       2\n",
      "115       2\n",
      "117       1\n",
      "120      39\n",
      "122       1\n",
      "125       8\n",
      "129       1\n",
      "130      15\n",
      "135       1\n",
      "139       1\n",
      "140       9\n",
      "Name: price_usd, dtype: int64\n"
     ]
    }
   ],
   "source": [
    "print(autos['price_usd'].value_counts().sort_index(ascending = True).head(50))"
   ]
  },
  {
   "cell_type": "code",
   "execution_count": 19,
   "metadata": {},
   "outputs": [
    {
     "name": "stdout",
     "output_type": "stream",
     "text": [
      "14\n"
     ]
    }
   ],
   "source": [
    "print(autos[autos['price_usd']> 500000].shape[0])"
   ]
  },
  {
   "cell_type": "markdown",
   "metadata": {},
   "source": [
    "Only 14 rows with price greater than 500,000.. these rows can be considered as outlier. The price range can be shortened between 100 and 500,000."
   ]
  },
  {
   "cell_type": "code",
   "execution_count": 20,
   "metadata": {},
   "outputs": [
    {
     "data": {
      "text/plain": [
       "500     781\n",
       "1500    734\n",
       "2500    643\n",
       "1200    639\n",
       "1000    639\n",
       "Name: price_usd, dtype: int64"
      ]
     },
     "execution_count": 20,
     "metadata": {},
     "output_type": "execute_result"
    }
   ],
   "source": [
    "autos = autos[autos['price_usd'].between(100, 500000)]\n",
    "autos['price_usd'].value_counts().sort_values(ascending = False).head(5)"
   ]
  },
  {
   "cell_type": "code",
   "execution_count": 21,
   "metadata": {},
   "outputs": [
    {
     "name": "stdout",
     "output_type": "stream",
     "text": [
      "5000        760\n",
      "10000       245\n",
      "20000       757\n",
      "30000       777\n",
      "40000       814\n",
      "50000      1009\n",
      "60000      1153\n",
      "70000      1214\n",
      "80000      1412\n",
      "90000      1733\n",
      "100000     2101\n",
      "125000     5037\n",
      "150000    31212\n",
      "Name: odometer_km, dtype: int64\n"
     ]
    }
   ],
   "source": [
    "print(autos['odometer_km'].value_counts().sort_index(ascending = True).head(50))"
   ]
  },
  {
   "cell_type": "markdown",
   "metadata": {},
   "source": [
    "Even though odometer column is right-skewed by the value 150000, the data does not seem to have any problems. \n",
    "\n",
    "More cars around 500 or 1500$ were sold and it is reasonable to see that people normally sold order cars, especially ones had driven 150000 km."
   ]
  },
  {
   "cell_type": "markdown",
   "metadata": {},
   "source": [
    "## Date columns\n",
    "\n",
    "Now move to date values column: date_crawled, last_seen, ad_created. These columns are defined as objects, and we want to focus only on the date instead of datetime. (the first 10 strings)"
   ]
  },
  {
   "cell_type": "code",
   "execution_count": 22,
   "metadata": {},
   "outputs": [
    {
     "data": {
      "text/html": [
       "<div>\n",
       "<style scoped>\n",
       "    .dataframe tbody tr th:only-of-type {\n",
       "        vertical-align: middle;\n",
       "    }\n",
       "\n",
       "    .dataframe tbody tr th {\n",
       "        vertical-align: top;\n",
       "    }\n",
       "\n",
       "    .dataframe thead th {\n",
       "        text-align: right;\n",
       "    }\n",
       "</style>\n",
       "<table border=\"1\" class=\"dataframe\">\n",
       "  <thead>\n",
       "    <tr style=\"text-align: right;\">\n",
       "      <th></th>\n",
       "      <th>date_crawled</th>\n",
       "      <th>ad_created</th>\n",
       "      <th>last_seen</th>\n",
       "    </tr>\n",
       "  </thead>\n",
       "  <tbody>\n",
       "    <tr>\n",
       "      <th>0</th>\n",
       "      <td>2016-03-26 17:47:46</td>\n",
       "      <td>2016-03-26 00:00:00</td>\n",
       "      <td>2016-04-06 06:45:54</td>\n",
       "    </tr>\n",
       "    <tr>\n",
       "      <th>1</th>\n",
       "      <td>2016-04-04 13:38:56</td>\n",
       "      <td>2016-04-04 00:00:00</td>\n",
       "      <td>2016-04-06 14:45:08</td>\n",
       "    </tr>\n",
       "    <tr>\n",
       "      <th>2</th>\n",
       "      <td>2016-03-26 18:57:24</td>\n",
       "      <td>2016-03-26 00:00:00</td>\n",
       "      <td>2016-04-06 20:15:37</td>\n",
       "    </tr>\n",
       "    <tr>\n",
       "      <th>3</th>\n",
       "      <td>2016-03-12 16:58:10</td>\n",
       "      <td>2016-03-12 00:00:00</td>\n",
       "      <td>2016-03-15 03:16:28</td>\n",
       "    </tr>\n",
       "    <tr>\n",
       "      <th>4</th>\n",
       "      <td>2016-04-01 14:38:50</td>\n",
       "      <td>2016-04-01 00:00:00</td>\n",
       "      <td>2016-04-01 14:38:50</td>\n",
       "    </tr>\n",
       "  </tbody>\n",
       "</table>\n",
       "</div>"
      ],
      "text/plain": [
       "          date_crawled           ad_created            last_seen\n",
       "0  2016-03-26 17:47:46  2016-03-26 00:00:00  2016-04-06 06:45:54\n",
       "1  2016-04-04 13:38:56  2016-04-04 00:00:00  2016-04-06 14:45:08\n",
       "2  2016-03-26 18:57:24  2016-03-26 00:00:00  2016-04-06 20:15:37\n",
       "3  2016-03-12 16:58:10  2016-03-12 00:00:00  2016-03-15 03:16:28\n",
       "4  2016-04-01 14:38:50  2016-04-01 00:00:00  2016-04-01 14:38:50"
      ]
     },
     "execution_count": 22,
     "metadata": {},
     "output_type": "execute_result"
    }
   ],
   "source": [
    "autos[['date_crawled','ad_created','last_seen']][0:5]"
   ]
  },
  {
   "cell_type": "code",
   "execution_count": 23,
   "metadata": {
    "scrolled": true
   },
   "outputs": [
    {
     "data": {
      "text/plain": [
       "2016-04-03    0.038611\n",
       "2016-03-20    0.037803\n",
       "2016-03-21    0.037201\n",
       "2016-03-12    0.036911\n",
       "2016-03-14    0.036662\n",
       "Name: date_crawled, dtype: float64"
      ]
     },
     "execution_count": 23,
     "metadata": {},
     "output_type": "execute_result"
    }
   ],
   "source": [
    "autos['date_crawled'].str[:10].value_counts(normalize = True, dropna = False).sort_values(ascending = False).head(5)"
   ]
  },
  {
   "cell_type": "code",
   "execution_count": 24,
   "metadata": {},
   "outputs": [
    {
     "data": {
      "text/plain": [
       "2016-04-03    0.038860\n",
       "2016-03-20    0.037865\n",
       "2016-03-21    0.037429\n",
       "2016-04-04    0.036890\n",
       "2016-03-12    0.036745\n",
       "Name: ad_created, dtype: float64"
      ]
     },
     "execution_count": 24,
     "metadata": {},
     "output_type": "execute_result"
    }
   ],
   "source": [
    "autos['ad_created'].str[:10].value_counts(normalize = True, dropna = False).sort_values(ascending = False).head(5)"
   ]
  },
  {
   "cell_type": "code",
   "execution_count": 25,
   "metadata": {},
   "outputs": [
    {
     "data": {
      "text/plain": [
       "2016-04-06    0.221964\n",
       "2016-04-07    0.132154\n",
       "2016-04-05    0.125062\n",
       "2016-03-17    0.028098\n",
       "2016-04-03    0.025133\n",
       "Name: last_seen, dtype: float64"
      ]
     },
     "execution_count": 25,
     "metadata": {},
     "output_type": "execute_result"
    }
   ],
   "source": [
    "autos['last_seen'].str[:10].value_counts(normalize = True, dropna = False).sort_values(ascending = False).head(5)"
   ]
  },
  {
   "cell_type": "markdown",
   "metadata": {},
   "source": [
    "We can see all crawled date, ad created time, or last seen date were **mostly in March and April 2016**. Reasons behind this insight should be investigated further.\n",
    "\n",
    "Move onto registration year and month to see if there is any issue with the data."
   ]
  },
  {
   "cell_type": "code",
   "execution_count": 26,
   "metadata": {},
   "outputs": [
    {
     "data": {
      "text/html": [
       "<div>\n",
       "<style scoped>\n",
       "    .dataframe tbody tr th:only-of-type {\n",
       "        vertical-align: middle;\n",
       "    }\n",
       "\n",
       "    .dataframe tbody tr th {\n",
       "        vertical-align: top;\n",
       "    }\n",
       "\n",
       "    .dataframe thead th {\n",
       "        text-align: right;\n",
       "    }\n",
       "</style>\n",
       "<table border=\"1\" class=\"dataframe\">\n",
       "  <thead>\n",
       "    <tr style=\"text-align: right;\">\n",
       "      <th></th>\n",
       "      <th>registration_year</th>\n",
       "      <th>registration_month</th>\n",
       "    </tr>\n",
       "  </thead>\n",
       "  <tbody>\n",
       "    <tr>\n",
       "      <th>count</th>\n",
       "      <td>48224.000000</td>\n",
       "      <td>48224.000000</td>\n",
       "    </tr>\n",
       "    <tr>\n",
       "      <th>mean</th>\n",
       "      <td>2004.730964</td>\n",
       "      <td>5.801634</td>\n",
       "    </tr>\n",
       "    <tr>\n",
       "      <th>std</th>\n",
       "      <td>87.897388</td>\n",
       "      <td>3.676976</td>\n",
       "    </tr>\n",
       "    <tr>\n",
       "      <th>min</th>\n",
       "      <td>1000.000000</td>\n",
       "      <td>0.000000</td>\n",
       "    </tr>\n",
       "    <tr>\n",
       "      <th>25%</th>\n",
       "      <td>1999.000000</td>\n",
       "      <td>3.000000</td>\n",
       "    </tr>\n",
       "    <tr>\n",
       "      <th>50%</th>\n",
       "      <td>2004.000000</td>\n",
       "      <td>6.000000</td>\n",
       "    </tr>\n",
       "    <tr>\n",
       "      <th>75%</th>\n",
       "      <td>2008.000000</td>\n",
       "      <td>9.000000</td>\n",
       "    </tr>\n",
       "    <tr>\n",
       "      <th>max</th>\n",
       "      <td>9999.000000</td>\n",
       "      <td>12.000000</td>\n",
       "    </tr>\n",
       "  </tbody>\n",
       "</table>\n",
       "</div>"
      ],
      "text/plain": [
       "       registration_year  registration_month\n",
       "count       48224.000000        48224.000000\n",
       "mean         2004.730964            5.801634\n",
       "std            87.897388            3.676976\n",
       "min          1000.000000            0.000000\n",
       "25%          1999.000000            3.000000\n",
       "50%          2004.000000            6.000000\n",
       "75%          2008.000000            9.000000\n",
       "max          9999.000000           12.000000"
      ]
     },
     "execution_count": 26,
     "metadata": {},
     "output_type": "execute_result"
    }
   ],
   "source": [
    "autos[['registration_year','registration_month']].describe()"
   ]
  },
  {
   "cell_type": "markdown",
   "metadata": {},
   "source": [
    "It seems to have mistakes in the minimum value of both registration_year and registration_month, and maximum value of registration_year. Until 1886, cars hadn't been invented yet, and there aren't certainly year 9999 (not yet) and month 0. Let's investigate more those rows and see what we can do to these data points."
   ]
  },
  {
   "cell_type": "code",
   "execution_count": 27,
   "metadata": {},
   "outputs": [],
   "source": [
    "registration_year_checks = autos[(autos['registration_year'] < 1886) | (autos['registration_year'] > 2021)]\n",
    "registration_month_checks = autos[autos['registration_month'] == 0]"
   ]
  },
  {
   "cell_type": "code",
   "execution_count": 28,
   "metadata": {},
   "outputs": [
    {
     "name": "stdout",
     "output_type": "stream",
     "text": [
      "Number of incorrect registration_year:  19\n",
      "Number of incorrect registration_month:  4313\n"
     ]
    }
   ],
   "source": [
    "print(\"Number of incorrect registration_year: \",registration_year_checks.shape[0])\n",
    "print(\"Number of incorrect registration_month: \",registration_month_checks.shape[0])"
   ]
  },
  {
   "cell_type": "code",
   "execution_count": 29,
   "metadata": {},
   "outputs": [
    {
     "data": {
      "text/plain": [
       "5000    3\n",
       "9999    3\n",
       "1800    2\n",
       "6200    1\n",
       "1111    1\n",
       "4500    1\n",
       "5911    1\n",
       "2800    1\n",
       "9000    1\n",
       "1001    1\n",
       "8888    1\n",
       "1000    1\n",
       "4100    1\n",
       "4800    1\n",
       "Name: registration_year, dtype: int64"
      ]
     },
     "execution_count": 29,
     "metadata": {},
     "output_type": "execute_result"
    }
   ],
   "source": [
    "registration_year_checks['registration_year'].value_counts()"
   ]
  },
  {
   "cell_type": "markdown",
   "metadata": {},
   "source": [
    "Besides the incorrect registration year, there is no issues with other data, so we can suppose that the incorrect year or month maybe due to data input problems and we can simply replace these values by \"np.nan\"."
   ]
  },
  {
   "cell_type": "code",
   "execution_count": 30,
   "metadata": {},
   "outputs": [],
   "source": [
    "autos['registration_year'] = autos['registration_year'].replace([1000, 1001, 1111, 1800], np.nan).replace([5000,9000,4800,5911,2800,8888,6200,4100,4500, 9999], np.nan)\n",
    "autos['registration_month'] = autos['registration_month'].replace(0, np.nan)"
   ]
  },
  {
   "cell_type": "code",
   "execution_count": 31,
   "metadata": {},
   "outputs": [
    {
     "data": {
      "text/plain": [
       "2000.0    0.064392\n",
       "2005.0    0.060388\n",
       "1999.0    0.059724\n",
       "2004.0    0.055990\n",
       "2003.0    0.055866\n",
       "            ...   \n",
       "1939.0    0.000021\n",
       "1938.0    0.000021\n",
       "1931.0    0.000021\n",
       "1929.0    0.000021\n",
       "1927.0    0.000021\n",
       "Name: registration_year, Length: 81, dtype: float64"
      ]
     },
     "execution_count": 31,
     "metadata": {},
     "output_type": "execute_result"
    }
   ],
   "source": [
    "autos['registration_year'].value_counts(normalize=True)"
   ]
  },
  {
   "cell_type": "code",
   "execution_count": 32,
   "metadata": {},
   "outputs": [
    {
     "data": {
      "text/plain": [
       "3.0     0.113434\n",
       "6.0     0.096901\n",
       "4.0     0.091526\n",
       "5.0     0.091458\n",
       "7.0     0.087495\n",
       "10.0    0.081460\n",
       "12.0    0.076473\n",
       "9.0     0.075562\n",
       "11.0    0.075266\n",
       "1.0     0.072829\n",
       "8.0     0.070939\n",
       "2.0     0.066658\n",
       "Name: registration_month, dtype: float64"
      ]
     },
     "execution_count": 32,
     "metadata": {},
     "output_type": "execute_result"
    }
   ],
   "source": [
    "autos['registration_month'].value_counts(normalize=True)"
   ]
  },
  {
   "cell_type": "markdown",
   "metadata": {},
   "source": [
    "The most common registration years were around the beginning of 2000s. It may be due to the result of industrial revolution which happened strongly in 19th century. Interestingly, more cars were registered in March than other months."
   ]
  },
  {
   "cell_type": "markdown",
   "metadata": {},
   "source": [
    "# Conclusion\n",
    "\n",
    "Through this project, we have practiced cleaning data, however, due to lack of information about the dataset, lots of nan or missing data can't be dealt with the best way as possible. Also, some insights driven from the dataset need more investigation to be fully explained. "
   ]
  },
  {
   "cell_type": "code",
   "execution_count": null,
   "metadata": {},
   "outputs": [],
   "source": []
  }
 ],
 "metadata": {
  "kernelspec": {
   "display_name": "Python 3",
   "language": "python",
   "name": "python3"
  },
  "language_info": {
   "codemirror_mode": {
    "name": "ipython",
    "version": 3
   },
   "file_extension": ".py",
   "mimetype": "text/x-python",
   "name": "python",
   "nbconvert_exporter": "python",
   "pygments_lexer": "ipython3",
   "version": "3.8.5"
  }
 },
 "nbformat": 4,
 "nbformat_minor": 4
}
