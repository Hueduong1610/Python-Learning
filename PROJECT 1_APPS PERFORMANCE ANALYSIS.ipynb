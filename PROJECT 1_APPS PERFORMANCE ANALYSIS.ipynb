{
 "cells": [
  {
   "cell_type": "markdown",
   "metadata": {},
   "source": [
    "# Profitable App Profiles: Which ones contributed most to overall performance?\n",
    "\n",
    "\n",
    "Our aim in this project is to do a general analysis of our apps' performance in App Store and Google Play markets. Because our product ranges are free and the main source of revenue comes from in-app ads, our analysis will focus on the volume of traffic visiting and using our apps. Technically, we will try to answer the following questions:\n",
    "\n",
    "> 1. Which apps attracted the highest volume of visits?\n",
    "> 2. Why these apps are more favorable?\n",
    "> 3. What are the opportunities for our apps?\n",
    "\n",
    "## About the dataset\n",
    "\n",
    "Our analysis use two datasets: one containing data about approximately ten thousand Android apps from Google Play, and another containing about approximately seven thousand iOS apps from the App Store. You can download the datasets directly from:\n",
    "\n",
    "Android apps: https://dq-content.s3.amazonaws.com/350/AppleStore.csv\n",
    "\n",
    "iOS apps: https://dq-content.s3.amazonaws.com/350/googleplaystore.csv\n",
    "\n",
    "Utilizing these available data allows us to save a huge amount of time and cost. While exploring those data, we can evaluate our codes before applying to our real dataset. Let's start by opening these data sets and explore them. "
   ]
  },
  {
   "cell_type": "code",
   "execution_count": 1,
   "metadata": {},
   "outputs": [],
   "source": [
    "from csv import reader\n",
    "\n",
    "## Open the Applestore data\n",
    "opened_file = open(r\"Desktop\\New folder\\AppleStore.csv\", encoding=\"utf8\")\n",
    "read_file = reader(opened_file)\n",
    "ios = list(read_file)\n",
    "ios_header = ios[0]\n",
    "ios = ios[1:]\n",
    "\n",
    "## Open the Google Play data\n",
    "opened_file = open(r\"Desktop\\New folder\\googleplaystore.csv\", encoding = \"utf8\")\n",
    "read_file = reader(opened_file)\n",
    "android = list(read_file)\n",
    "android_header = android[0]\n",
    "android = android[1:]\n"
   ]
  },
  {
   "cell_type": "code",
   "execution_count": 2,
   "metadata": {},
   "outputs": [],
   "source": [
    "## Explore function to help you have a quick look at specific slices of data\n",
    "\n",
    "def explore_data(dataset, start, end, rows_and_columns = False):\n",
    "    data_slice = dataset[start:end]\n",
    "    \n",
    "    for row in data_slice:\n",
    "        print(row)\n",
    "        print('\\n')\n",
    "    \n",
    "    if rows_and_columns:\n",
    "        print(\"The number of rows: \", len(dataset))\n",
    "        print(\"The number of columns: \", len(dataset[0]))"
   ]
  },
  {
   "cell_type": "code",
   "execution_count": 3,
   "metadata": {},
   "outputs": [
    {
     "name": "stdout",
     "output_type": "stream",
     "text": [
      "iOS Dataset: \n",
      "\n",
      "\n",
      "['id', 'track_name', 'size_bytes', 'currency', 'price', 'rating_count_tot', 'rating_count_ver', 'user_rating', 'user_rating_ver', 'ver', 'cont_rating', 'prime_genre', 'sup_devices.num', 'ipadSc_urls.num', 'lang.num', 'vpp_lic']\n",
      "\n",
      "\n",
      "['284882215', 'Facebook', '389879808', 'USD', '0.0', '2974676', '212', '3.5', '3.5', '95.0', '4+', 'Social Networking', '37', '1', '29', '1']\n",
      "\n",
      "\n",
      "['389801252', 'Instagram', '113954816', 'USD', '0.0', '2161558', '1289', '4.5', '4.0', '10.23', '12+', 'Photo & Video', '37', '0', '29', '1']\n",
      "\n",
      "\n",
      "The number of rows:  7197\n",
      "The number of columns:  16\n"
     ]
    }
   ],
   "source": [
    "## Let's explore 5 first rows of our datasets\n",
    "print('iOS Dataset: ')\n",
    "print('\\n')\n",
    "print(ios_header)\n",
    "print('\\n')\n",
    "explore_data(ios,0,2, True)"
   ]
  },
  {
   "cell_type": "code",
   "execution_count": 4,
   "metadata": {},
   "outputs": [
    {
     "name": "stdout",
     "output_type": "stream",
     "text": [
      "Android Dataset: \n",
      "\n",
      "\n",
      "['App', 'Category', 'Rating', 'Reviews', 'Size', 'Installs', 'Type', 'Price', 'Content Rating', 'Genres', 'Last Updated', 'Current Ver', 'Android Ver']\n",
      "\n",
      "\n",
      "['Photo Editor & Candy Camera & Grid & ScrapBook', 'ART_AND_DESIGN', '4.1', '159', '19M', '10,000+', 'Free', '0', 'Everyone', 'Art & Design', 'January 7, 2018', '1.0.0', '4.0.3 and up']\n",
      "\n",
      "\n",
      "['Coloring book moana', 'ART_AND_DESIGN', '3.9', '967', '14M', '500,000+', 'Free', '0', 'Everyone', 'Art & Design;Pretend Play', 'January 15, 2018', '2.0.0', '4.0.3 and up']\n",
      "\n",
      "\n",
      "The number of rows:  10841\n",
      "The number of columns:  13\n"
     ]
    }
   ],
   "source": [
    "print('Android Dataset: ')\n",
    "print('\\n')\n",
    "print(android_header)\n",
    "print('\\n')\n",
    "explore_data(android,0,2, True)"
   ]
  },
  {
   "cell_type": "markdown",
   "metadata": {},
   "source": [
    "## Check duplicates & wrong inputs\n",
    "\n",
    "For our aim in this project, it seemed that with iOS dataset, the rating_count tot collumn would help to answer the most favorable apps, and we can explore the reasons behind by analysing other attributes (such as: average rating, size of the apps, category, etc.). Similarly, with Android dataset, the number of installs would classify the most attractive apps. But firstly, we need to clean our data to ensure the accuracy. "
   ]
  },
  {
   "cell_type": "code",
   "execution_count": 5,
   "metadata": {},
   "outputs": [],
   "source": [
    "# To make sure all duplicates and wrong input in our datasets, build function to detect them:\n",
    "\n",
    "def duplicate_check(dataset):\n",
    "    unique_apps = []\n",
    "    duplicate_list =[]\n",
    "\n",
    "    for row in dataset:\n",
    "        apps_nameid = row[0]\n",
    "        if apps_nameid not in unique_apps:\n",
    "            unique_apps.append(apps_nameid)\n",
    "        else:\n",
    "            duplicate_list.append(apps_nameid)\n",
    "    return duplicate_list\n",
    "\n",
    "def row_length_check(dataset):\n",
    "    row_length = len(dataset[0])\n",
    "    row_diff = []\n",
    "    for row in dataset:\n",
    "        if len(row) != row_length:\n",
    "            row_index = dataset.index(row)\n",
    "            row_diff.append(row_index)\n",
    "            \n",
    "    return row_diff\n",
    "\n",
    "def data_check(dataset):\n",
    "    print('Number of duplicates: ', len(duplicate_check(dataset)))\n",
    "    print('\\n')      \n",
    "    print('Number of rows with different length: ', len(row_length_check(dataset)))\n",
    "    \n",
    "            "
   ]
  },
  {
   "cell_type": "code",
   "execution_count": 6,
   "metadata": {},
   "outputs": [
    {
     "name": "stdout",
     "output_type": "stream",
     "text": [
      "Number of duplicates:  0\n",
      "\n",
      "\n",
      "Number of rows with different length:  0\n"
     ]
    }
   ],
   "source": [
    "data_check(ios)"
   ]
  },
  {
   "cell_type": "code",
   "execution_count": 7,
   "metadata": {},
   "outputs": [
    {
     "name": "stdout",
     "output_type": "stream",
     "text": [
      "Number of duplicates:  1181\n",
      "\n",
      "\n",
      "Number of rows with different length:  1\n"
     ]
    }
   ],
   "source": [
    "data_check(android)"
   ]
  },
  {
   "cell_type": "code",
   "execution_count": 8,
   "metadata": {},
   "outputs": [
    {
     "name": "stdout",
     "output_type": "stream",
     "text": [
      "[10472]\n"
     ]
    }
   ],
   "source": [
    "row_diff = row_length_check(android)\n",
    "print(row_diff)\n"
   ]
  },
  {
   "cell_type": "code",
   "execution_count": 9,
   "metadata": {},
   "outputs": [],
   "source": [
    "# As you can see, this apps is missing its category in row 10472, which makes the other columns shift to the left unexpectedly.\n",
    "# delete the row from dataset\n",
    "for i in row_diff:\n",
    "    del android[i]"
   ]
  },
  {
   "cell_type": "code",
   "execution_count": 10,
   "metadata": {},
   "outputs": [
    {
     "name": "stdout",
     "output_type": "stream",
     "text": [
      "Number of duplicates:  1181\n",
      "\n",
      "\n",
      "Number of rows with different length:  0\n"
     ]
    }
   ],
   "source": [
    "# We will check data again to make sure there is no rows with different length after we delete row 10472\n",
    "data_check(android)"
   ]
  },
  {
   "cell_type": "code",
   "execution_count": 11,
   "metadata": {},
   "outputs": [
    {
     "name": "stdout",
     "output_type": "stream",
     "text": [
      "['Instagram', 'SOCIAL', '4.5', '66577313', 'Varies with device', '1,000,000,000+', 'Free', '0', 'Teen', 'Social', 'July 31, 2018', 'Varies with device', 'Varies with device']\n",
      "['Instagram', 'SOCIAL', '4.5', '66577446', 'Varies with device', '1,000,000,000+', 'Free', '0', 'Teen', 'Social', 'July 31, 2018', 'Varies with device', 'Varies with device']\n",
      "['Instagram', 'SOCIAL', '4.5', '66577313', 'Varies with device', '1,000,000,000+', 'Free', '0', 'Teen', 'Social', 'July 31, 2018', 'Varies with device', 'Varies with device']\n",
      "['Instagram', 'SOCIAL', '4.5', '66509917', 'Varies with device', '1,000,000,000+', 'Free', '0', 'Teen', 'Social', 'July 31, 2018', 'Varies with device', 'Varies with device']\n"
     ]
    }
   ],
   "source": [
    "# Now, we will explore more about duplicates in Android data\n",
    "for app in android:\n",
    "    name = app[0]\n",
    "    if name == \"Instagram\":\n",
    "        print(app)"
   ]
  },
  {
   "cell_type": "markdown",
   "metadata": {},
   "source": [
    "For duplicates in Android data, we can see the difference is in the number of reviews. In fact, the number of reviews normally increases cumulatively over time, so instead of deleting duplicate randomly, it is better to keep row with the highest review and delete the others. 2 ways to do that: \n",
    "\n",
    "Iterating apps name in duplicate_check(dataset) result to find list of duplicates with their reviews number, create a list of review and keep the row with reviews equal maximum of this list.\n",
    "\n",
    "We can create a dictionary to keep all uniques apps and the maximum of its reviews. Then we iterate dataset to remove rows that had different combinations with ones in the dictionary.Let's try with a dictionary."
   ]
  },
  {
   "cell_type": "code",
   "execution_count": 12,
   "metadata": {},
   "outputs": [],
   "source": [
    "reviews_max = {}\n",
    "for app in android:\n",
    "    name = app[0]\n",
    "    n_reviews = float(app[3])\n",
    "    if name in reviews_max and reviews_max[name] < n_reviews:\n",
    "        reviews_max[name] = n_reviews\n",
    "    elif name not in reviews_max:\n",
    "        reviews_max[name] = n_reviews\n",
    "\n",
    "android_clean = []\n",
    "already_added = []\n",
    "for app in android:\n",
    "    name = app[0]\n",
    "    n_reviews = float(app[3])\n",
    "    if n_reviews == reviews_max[name] and name not in already_added:\n",
    "        android_clean.append(app)\n",
    "        already_added.append(name)\n",
    "    "
   ]
  },
  {
   "cell_type": "code",
   "execution_count": 13,
   "metadata": {},
   "outputs": [
    {
     "name": "stdout",
     "output_type": "stream",
     "text": [
      "9659\n"
     ]
    }
   ],
   "source": [
    "print(len(android_clean))"
   ]
  },
  {
   "cell_type": "markdown",
   "metadata": {},
   "source": [
    "### Clean apps name\n",
    "\n",
    "Suppose that we want to focus on apps aiming at English speaking users, so we are not interested in apps with non-English names. To remove these apps from our dataset, we need a function to detect apps names and compare to text range following ASCII standard. Normally characters in an English text are in the range 0 to 127. The idea is, therefore, to create a function to detect range of character in a text and remove the text if they are out of English character range."
   ]
  },
  {
   "cell_type": "code",
   "execution_count": 14,
   "metadata": {},
   "outputs": [],
   "source": [
    "# For english character, the range is between 0 and 127\n",
    "\n",
    "def detect_appname(string, a, b):\n",
    "    lower_range = a\n",
    "    upper_range = b\n",
    "    # to minimize the impact of data loss, we only remove apps with names having more than 3 non ASCII characters\n",
    "    n = 0\n",
    "    for char in string:\n",
    "        if ord(char) > upper_range:\n",
    "            n += 1\n",
    "    if n > 3:\n",
    "        return False\n",
    "    return True\n",
    "    "
   ]
  },
  {
   "cell_type": "code",
   "execution_count": 15,
   "metadata": {},
   "outputs": [
    {
     "data": {
      "text/plain": [
       "False"
      ]
     },
     "execution_count": 15,
     "metadata": {},
     "output_type": "execute_result"
    }
   ],
   "source": [
    "detect_appname('爱奇艺PPS -《欢乐颂2》电视剧热播', 0, 127)"
   ]
  },
  {
   "cell_type": "code",
   "execution_count": 16,
   "metadata": {},
   "outputs": [
    {
     "name": "stdout",
     "output_type": "stream",
     "text": [
      "Number of iOS english apps:  6183\n",
      "Number of Android english apps:  9614\n"
     ]
    }
   ],
   "source": [
    "ios_englishapps = []\n",
    "android_englishapps =[]\n",
    "\n",
    "for row in ios:\n",
    "    apps_name = row[1]\n",
    "    if detect_appname(apps_name, 0, 127):\n",
    "        ios_englishapps.append(row)\n",
    "print(\"Number of iOS english apps: \", len(ios_englishapps))\n",
    "\n",
    "for row in android_clean:\n",
    "    apps_name = row[0]\n",
    "    if detect_appname(apps_name, 0, 127):\n",
    "        android_englishapps.append(row)\n",
    "print(\"Number of Android english apps: \", len(android_englishapps))"
   ]
  },
  {
   "cell_type": "code",
   "execution_count": 17,
   "metadata": {},
   "outputs": [
    {
     "name": "stdout",
     "output_type": "stream",
     "text": [
      "Number of iOS free apps:  3222\n",
      "Number of Android free apps:  8864\n"
     ]
    }
   ],
   "source": [
    "# As we mentionned before, we focus only on free apps in this analysis, so now we will isolate the free apps in a seperate list\n",
    "\n",
    "ios_freeapps = []\n",
    "android_freeapps = []\n",
    "\n",
    "for row in ios_englishapps:\n",
    "    price = float(row[4])\n",
    "   # print(price)\n",
    "    if price == 0:\n",
    "        ios_freeapps.append(row)\n",
    "print(\"Number of iOS free apps: \", len(ios_freeapps))\n",
    "\n",
    "for row in android_englishapps:\n",
    "    price = row[7]\n",
    "#     print(price)\n",
    "    if price == \"0\":\n",
    "        android_freeapps.append(row)\n",
    "print(\"Number of Android free apps: \", len(android_freeapps))"
   ]
  },
  {
   "cell_type": "markdown",
   "metadata": {},
   "source": [
    "## Analyze Data\n",
    "\n",
    "After having our clean data, we begin to explore data to answer the questions. Strategie to develop an app is through 3 steps: Firstly a sample version is built and put on Google Play, this version is then evaluated base on response of users. If it receives good reviews on Google Play, a more completed version will be developed and promoted on App store as well. The overall performance will then be evaluated from both platforms. \n",
    "\n",
    "With this in mind, we will isolate apps with the highest frequency of specific features, to see which one is the most favorable of all apps. For example, we can explore data to answer what are the most common genres in each market, and then develop our own apps base on this insight."
   ]
  },
  {
   "cell_type": "code",
   "execution_count": 18,
   "metadata": {},
   "outputs": [
    {
     "name": "stdout",
     "output_type": "stream",
     "text": [
      "['App', 'Category', 'Rating', 'Reviews', 'Size', 'Installs', 'Type', 'Price', 'Content Rating', 'Genres', 'Last Updated', 'Current Ver', 'Android Ver']\n",
      "\n",
      "\n",
      "['Photo Editor & Candy Camera & Grid & ScrapBook', 'ART_AND_DESIGN', '4.1', '159', '19M', '10,000+', 'Free', '0', 'Everyone', 'Art & Design', 'January 7, 2018', '1.0.0', '4.0.3 and up']\n",
      "\n",
      "\n",
      "['Coloring book moana', 'ART_AND_DESIGN', '3.9', '967', '14M', '500,000+', 'Free', '0', 'Everyone', 'Art & Design;Pretend Play', 'January 15, 2018', '2.0.0', '4.0.3 and up']\n",
      "\n",
      "\n",
      "['U Launcher Lite – FREE Live Cool Themes, Hide Apps', 'ART_AND_DESIGN', '4.7', '87510', '8.7M', '5,000,000+', 'Free', '0', 'Everyone', 'Art & Design', 'August 1, 2018', '1.2.4', '4.0.3 and up']\n",
      "\n",
      "\n",
      "The number of rows:  10840\n",
      "The number of columns:  13\n"
     ]
    }
   ],
   "source": [
    "# review data\n",
    "print(android_header)\n",
    "print('\\n')\n",
    "explore_data(android, 0, 3, True)"
   ]
  },
  {
   "cell_type": "code",
   "execution_count": 19,
   "metadata": {},
   "outputs": [
    {
     "name": "stdout",
     "output_type": "stream",
     "text": [
      "['id', 'track_name', 'size_bytes', 'currency', 'price', 'rating_count_tot', 'rating_count_ver', 'user_rating', 'user_rating_ver', 'ver', 'cont_rating', 'prime_genre', 'sup_devices.num', 'ipadSc_urls.num', 'lang.num', 'vpp_lic']\n",
      "\n",
      "\n",
      "['284882215', 'Facebook', '389879808', 'USD', '0.0', '2974676', '212', '3.5', '3.5', '95.0', '4+', 'Social Networking', '37', '1', '29', '1']\n",
      "\n",
      "\n",
      "['389801252', 'Instagram', '113954816', 'USD', '0.0', '2161558', '1289', '4.5', '4.0', '10.23', '12+', 'Photo & Video', '37', '0', '29', '1']\n",
      "\n",
      "\n",
      "['529479190', 'Clash of Clans', '116476928', 'USD', '0.0', '2130805', '579', '4.5', '4.5', '9.24.12', '9+', 'Games', '38', '5', '18', '1']\n",
      "\n",
      "\n",
      "The number of rows:  7197\n",
      "The number of columns:  16\n"
     ]
    }
   ],
   "source": [
    "print(ios_header)\n",
    "print('\\n')\n",
    "explore_data(ios, 0, 3, True)"
   ]
  },
  {
   "cell_type": "code",
   "execution_count": 20,
   "metadata": {},
   "outputs": [],
   "source": [
    "# We will use category of Android data and prime_genre of ios data for our analysis\n",
    "def freq_table(dataset, index):\n",
    "    frequency_dict = {}\n",
    "    percent_dict = {}\n",
    "    \n",
    "    for row in dataset:\n",
    "        app_genre = row[index]\n",
    "        if app_genre in frequency_dict:\n",
    "            frequency_dict[app_genre] += 1\n",
    "        else:\n",
    "            frequency_dict[app_genre] = 1\n",
    "    for genre in frequency_dict:\n",
    "        percent_dict[genre] = (frequency_dict[genre] / len(dataset)) * 100\n",
    "    \n",
    "    return percent_dict\n",
    "\n",
    "# Build a function to sort our result in descending order\n",
    "def display_table(dataset, index):\n",
    "    table = freq_table(dataset, index)\n",
    "    tup_list = []\n",
    "    for key in table:\n",
    "        key_val_tup = (table[key], key)\n",
    "        tup_list.append(key_val_tup)\n",
    "    sorted_list = sorted(tup_list, reverse = True)\n",
    "    for entry in sorted_list:\n",
    "        print(entry[1], ':', entry[0])\n",
    "\n",
    "        \n",
    "    "
   ]
  },
  {
   "cell_type": "code",
   "execution_count": 21,
   "metadata": {},
   "outputs": [
    {
     "name": "stdout",
     "output_type": "stream",
     "text": [
      "Games : 58.16263190564867\n",
      "Entertainment : 7.883302296710118\n",
      "Photo & Video : 4.9658597144630665\n",
      "Education : 3.662321539416512\n",
      "Social Networking : 3.2898820608317814\n",
      "Shopping : 2.60707635009311\n",
      "Utilities : 2.5139664804469275\n",
      "Sports : 2.1415270018621975\n",
      "Music : 2.0484171322160147\n",
      "Health & Fitness : 2.0173805090006205\n",
      "Productivity : 1.7380509000620732\n",
      "Lifestyle : 1.5828677839851024\n",
      "News : 1.3345747982619491\n",
      "Travel : 1.2414649286157666\n",
      "Finance : 1.1173184357541899\n",
      "Weather : 0.8690254500310366\n",
      "Food & Drink : 0.8069522036002483\n",
      "Reference : 0.5586592178770949\n",
      "Business : 0.5276225946617008\n",
      "Book : 0.4345127250155183\n",
      "Navigation : 0.186219739292365\n",
      "Medical : 0.186219739292365\n",
      "Catalogs : 0.12414649286157665\n"
     ]
    }
   ],
   "source": [
    "display_table(ios_freeapps, -5)"
   ]
  },
  {
   "cell_type": "markdown",
   "metadata": {},
   "source": [
    "We can see that Games is the most common genre for iOS free apps, with 58% of apps belongs to this category, followd by Entertaiment apps. To keep in mind that we only focus on free apps, so this result can not apply to the whole platform. Apps designed for entertainment purposes (games, photo and video, social networking, sports, music) seemed more preferable than for practical purposes (education, shopping, utilities, productivity, lifestyle). Apps developers pay the least attention to Navigation, Medical and Catalogs apps. However, the large number of apps in a specific genre may explain a huge number of users for this genre, but does not ensure a large number of users for each apps averagely."
   ]
  },
  {
   "cell_type": "code",
   "execution_count": 22,
   "metadata": {},
   "outputs": [
    {
     "name": "stdout",
     "output_type": "stream",
     "text": [
      "FAMILY : 18.907942238267147\n",
      "GAME : 9.724729241877256\n",
      "TOOLS : 8.461191335740072\n",
      "BUSINESS : 4.591606498194946\n",
      "LIFESTYLE : 3.9034296028880866\n",
      "PRODUCTIVITY : 3.892148014440433\n",
      "FINANCE : 3.7003610108303246\n",
      "MEDICAL : 3.531137184115524\n",
      "SPORTS : 3.395758122743682\n",
      "PERSONALIZATION : 3.3167870036101084\n",
      "COMMUNICATION : 3.2378158844765346\n",
      "HEALTH_AND_FITNESS : 3.0798736462093865\n",
      "PHOTOGRAPHY : 2.944494584837545\n",
      "NEWS_AND_MAGAZINES : 2.7978339350180503\n",
      "SOCIAL : 2.6624548736462095\n",
      "TRAVEL_AND_LOCAL : 2.33528880866426\n",
      "SHOPPING : 2.2450361010830324\n",
      "BOOKS_AND_REFERENCE : 2.1435018050541514\n",
      "DATING : 1.861462093862816\n",
      "VIDEO_PLAYERS : 1.7937725631768955\n",
      "MAPS_AND_NAVIGATION : 1.3989169675090252\n",
      "FOOD_AND_DRINK : 1.2409747292418771\n",
      "EDUCATION : 1.1620036101083033\n",
      "ENTERTAINMENT : 0.9589350180505415\n",
      "LIBRARIES_AND_DEMO : 0.9363718411552346\n",
      "AUTO_AND_VEHICLES : 0.9250902527075812\n",
      "HOUSE_AND_HOME : 0.8235559566787004\n",
      "WEATHER : 0.8009927797833934\n",
      "EVENTS : 0.7107400722021661\n",
      "PARENTING : 0.6543321299638989\n",
      "ART_AND_DESIGN : 0.6430505415162455\n",
      "COMICS : 0.6204873646209386\n",
      "BEAUTY : 0.5979241877256317\n"
     ]
    }
   ],
   "source": [
    "display_table(android_freeapps, 1)"
   ]
  },
  {
   "cell_type": "code",
   "execution_count": 23,
   "metadata": {
    "scrolled": true
   },
   "outputs": [
    {
     "name": "stdout",
     "output_type": "stream",
     "text": [
      "Tools : 8.449909747292418\n",
      "Entertainment : 6.069494584837545\n",
      "Education : 5.347472924187725\n",
      "Business : 4.591606498194946\n",
      "Productivity : 3.892148014440433\n",
      "Lifestyle : 3.892148014440433\n",
      "Finance : 3.7003610108303246\n",
      "Medical : 3.531137184115524\n",
      "Sports : 3.463447653429603\n",
      "Personalization : 3.3167870036101084\n",
      "Communication : 3.2378158844765346\n",
      "Action : 3.1024368231046933\n",
      "Health & Fitness : 3.0798736462093865\n",
      "Photography : 2.944494584837545\n",
      "News & Magazines : 2.7978339350180503\n",
      "Social : 2.6624548736462095\n",
      "Travel & Local : 2.3240072202166067\n",
      "Shopping : 2.2450361010830324\n",
      "Books & Reference : 2.1435018050541514\n",
      "Simulation : 2.0419675090252705\n",
      "Dating : 1.861462093862816\n",
      "Arcade : 1.8501805054151623\n",
      "Video Players & Editors : 1.7712093862815883\n",
      "Casual : 1.7599277978339352\n",
      "Maps & Navigation : 1.3989169675090252\n",
      "Food & Drink : 1.2409747292418771\n",
      "Puzzle : 1.128158844765343\n",
      "Racing : 0.9927797833935018\n",
      "Role Playing : 0.9363718411552346\n",
      "Libraries & Demo : 0.9363718411552346\n",
      "Auto & Vehicles : 0.9250902527075812\n",
      "Strategy : 0.9138086642599278\n",
      "House & Home : 0.8235559566787004\n",
      "Weather : 0.8009927797833934\n",
      "Events : 0.7107400722021661\n",
      "Adventure : 0.6768953068592057\n",
      "Comics : 0.6092057761732852\n",
      "Beauty : 0.5979241877256317\n",
      "Art & Design : 0.5979241877256317\n",
      "Parenting : 0.4963898916967509\n",
      "Card : 0.45126353790613716\n",
      "Casino : 0.42870036101083037\n",
      "Trivia : 0.41741877256317694\n",
      "Educational;Education : 0.39485559566787\n",
      "Board : 0.3835740072202166\n",
      "Educational : 0.3722924187725632\n",
      "Education;Education : 0.33844765342960287\n",
      "Word : 0.2594765342960289\n",
      "Casual;Pretend Play : 0.236913357400722\n",
      "Music : 0.2030685920577617\n",
      "Racing;Action & Adventure : 0.16922382671480143\n",
      "Puzzle;Brain Games : 0.16922382671480143\n",
      "Entertainment;Music & Video : 0.16922382671480143\n",
      "Casual;Brain Games : 0.13537906137184114\n",
      "Casual;Action & Adventure : 0.13537906137184114\n",
      "Arcade;Action & Adventure : 0.12409747292418773\n",
      "Action;Action & Adventure : 0.10153429602888085\n",
      "Educational;Pretend Play : 0.09025270758122744\n",
      "Simulation;Action & Adventure : 0.078971119133574\n",
      "Parenting;Education : 0.078971119133574\n",
      "Entertainment;Brain Games : 0.078971119133574\n",
      "Board;Brain Games : 0.078971119133574\n",
      "Parenting;Music & Video : 0.06768953068592057\n",
      "Educational;Brain Games : 0.06768953068592057\n",
      "Casual;Creativity : 0.06768953068592057\n",
      "Art & Design;Creativity : 0.06768953068592057\n",
      "Education;Pretend Play : 0.056407942238267145\n",
      "Role Playing;Pretend Play : 0.04512635379061372\n",
      "Education;Creativity : 0.04512635379061372\n",
      "Role Playing;Action & Adventure : 0.033844765342960284\n",
      "Puzzle;Action & Adventure : 0.033844765342960284\n",
      "Entertainment;Creativity : 0.033844765342960284\n",
      "Entertainment;Action & Adventure : 0.033844765342960284\n",
      "Educational;Creativity : 0.033844765342960284\n",
      "Educational;Action & Adventure : 0.033844765342960284\n",
      "Education;Music & Video : 0.033844765342960284\n",
      "Education;Brain Games : 0.033844765342960284\n",
      "Education;Action & Adventure : 0.033844765342960284\n",
      "Adventure;Action & Adventure : 0.033844765342960284\n",
      "Video Players & Editors;Music & Video : 0.02256317689530686\n",
      "Sports;Action & Adventure : 0.02256317689530686\n",
      "Simulation;Pretend Play : 0.02256317689530686\n",
      "Puzzle;Creativity : 0.02256317689530686\n",
      "Music;Music & Video : 0.02256317689530686\n",
      "Entertainment;Pretend Play : 0.02256317689530686\n",
      "Casual;Education : 0.02256317689530686\n",
      "Board;Action & Adventure : 0.02256317689530686\n",
      "Video Players & Editors;Creativity : 0.01128158844765343\n",
      "Trivia;Education : 0.01128158844765343\n",
      "Travel & Local;Action & Adventure : 0.01128158844765343\n",
      "Tools;Education : 0.01128158844765343\n",
      "Strategy;Education : 0.01128158844765343\n",
      "Strategy;Creativity : 0.01128158844765343\n",
      "Strategy;Action & Adventure : 0.01128158844765343\n",
      "Simulation;Education : 0.01128158844765343\n",
      "Role Playing;Brain Games : 0.01128158844765343\n",
      "Racing;Pretend Play : 0.01128158844765343\n",
      "Puzzle;Education : 0.01128158844765343\n",
      "Parenting;Brain Games : 0.01128158844765343\n",
      "Music & Audio;Music & Video : 0.01128158844765343\n",
      "Lifestyle;Pretend Play : 0.01128158844765343\n",
      "Lifestyle;Education : 0.01128158844765343\n",
      "Health & Fitness;Education : 0.01128158844765343\n",
      "Health & Fitness;Action & Adventure : 0.01128158844765343\n",
      "Entertainment;Education : 0.01128158844765343\n",
      "Communication;Creativity : 0.01128158844765343\n",
      "Comics;Creativity : 0.01128158844765343\n",
      "Casual;Music & Video : 0.01128158844765343\n",
      "Card;Action & Adventure : 0.01128158844765343\n",
      "Books & Reference;Education : 0.01128158844765343\n",
      "Art & Design;Pretend Play : 0.01128158844765343\n",
      "Art & Design;Action & Adventure : 0.01128158844765343\n",
      "Arcade;Pretend Play : 0.01128158844765343\n",
      "Adventure;Education : 0.01128158844765343\n"
     ]
    }
   ],
   "source": [
    "display_table(android_freeapps, -4)"
   ]
  },
  {
   "cell_type": "markdown",
   "metadata": {},
   "source": [
    "For android free apps, Family is the most common category and Tools is the most common genre. The runner-ups are Games and Entertainment respectively. We can notice that Tools classified as a category was ranked the third place despite being the most common genre. Androi apps for practical purposes attracted more attention from developers than iOS apps. Apps relating to education, business, medical outperformed Entertainment as common categories and had quite significant frequency as common Genres."
   ]
  },
  {
   "cell_type": "code",
   "execution_count": 24,
   "metadata": {
    "scrolled": true
   },
   "outputs": [
    {
     "name": "stdout",
     "output_type": "stream",
     "text": [
      "Social Networking : 71548.34905660378\n",
      "Photo & Video : 28441.54375\n",
      "Games : 22788.6696905016\n",
      "Music : 57326.530303030304\n",
      "Reference : 74942.11111111111\n",
      "Health & Fitness : 23298.015384615384\n",
      "Weather : 52279.892857142855\n",
      "Utilities : 18684.456790123455\n",
      "Travel : 28243.8\n",
      "Shopping : 26919.690476190477\n",
      "News : 21248.023255813954\n",
      "Navigation : 86090.33333333333\n",
      "Lifestyle : 16485.764705882353\n",
      "Entertainment : 14029.830708661417\n",
      "Food & Drink : 33333.92307692308\n",
      "Sports : 23008.898550724636\n",
      "Book : 39758.5\n",
      "Finance : 31467.944444444445\n",
      "Education : 7003.983050847458\n",
      "Productivity : 21028.410714285714\n",
      "Business : 7491.117647058823\n",
      "Catalogs : 4004.0\n",
      "Medical : 612.0\n"
     ]
    }
   ],
   "source": [
    "# As mentionned before that the frequency table does not technically signify volume of users for each categroris or genres.\n",
    "# in this part we will use other attribute to find out about this: the number of install in android data and the number of\n",
    "# rating in iOS data.\n",
    "ios_freq = freq_table(ios_freeapps, -5)\n",
    "\n",
    "for genre in ios_freq:\n",
    "    total = 0\n",
    "    len_genre = 0\n",
    "    for app in ios_freeapps:\n",
    "        genre_app = app[-5]\n",
    "        if genre_app == genre:\n",
    "            rating = float(app[5])\n",
    "            total += rating\n",
    "            len_genre += 1\n",
    "    \n",
    "    avg_rating = total/ len_genre\n",
    "    print(genre, ':', avg_rating)"
   ]
  },
  {
   "cell_type": "markdown",
   "metadata": {},
   "source": [
    "Among all genres, Navigation had the highest average rating. Interestingly enough, Navigation ranked very low in list of common genres and categories. Let's explore more to understand the reason behind."
   ]
  },
  {
   "cell_type": "code",
   "execution_count": 25,
   "metadata": {
    "scrolled": true
   },
   "outputs": [
    {
     "name": "stdout",
     "output_type": "stream",
     "text": [
      "Waze - GPS Navigation, Maps & Real-time Traffic : 345046\n",
      "Google Maps - Navigation & Transit : 154911\n",
      "Geocaching® : 12811\n",
      "CoPilot GPS – Car Navigation & Offline Maps : 3582\n",
      "ImmobilienScout24: Real Estate Search in Germany : 187\n",
      "Railway Route Search : 5\n"
     ]
    }
   ],
   "source": [
    "for app in ios_freeapps:\n",
    "    if app[-5] == 'Navigation':\n",
    "        print(app[1], ':', app[5])"
   ]
  },
  {
   "cell_type": "markdown",
   "metadata": {},
   "source": [
    "We notice that the average rating of Navigation is strongly influenced by Waze - GPS Navigation and Google Maps. Other apps had much lower rating amount.\n",
    "\n",
    "Similarly, Reference had a very high average rating which is strongly affected by Bible, Dictionary and Google Translate's ratings."
   ]
  },
  {
   "cell_type": "code",
   "execution_count": 26,
   "metadata": {},
   "outputs": [
    {
     "name": "stdout",
     "output_type": "stream",
     "text": [
      "Bible :  985920\n",
      "Dictionary.com Dictionary & Thesaurus :  200047\n",
      "Dictionary.com Dictionary & Thesaurus for iPad :  54175\n",
      "Google Translate :  26786\n",
      "Muslim Pro: Ramadan 2017 Prayer Times, Azan, Quran :  18418\n",
      "New Furniture Mods - Pocket Wiki & Game Tools for Minecraft PC Edition :  17588\n",
      "Merriam-Webster Dictionary :  16849\n",
      "Night Sky :  12122\n",
      "City Maps for Minecraft PE - The Best Maps for Minecraft Pocket Edition (MCPE) :  8535\n",
      "LUCKY BLOCK MOD ™ for Minecraft PC Edition - The Best Pocket Wiki & Mods Installer Tools :  4693\n",
      "GUNS MODS for Minecraft PC Edition - Mods Tools :  1497\n",
      "Guides for Pokémon GO - Pokemon GO News and Cheats :  826\n",
      "WWDC :  762\n",
      "Horror Maps for Minecraft PE - Download The Scariest Maps for Minecraft Pocket Edition (MCPE) Free :  718\n",
      "VPN Express :  14\n",
      "Real Bike Traffic Rider Virtual Reality Glasses :  8\n",
      "教えて!goo :  0\n",
      "Jishokun-Japanese English Dictionary & Translator :  0\n"
     ]
    }
   ],
   "source": [
    "for app in ios_freeapps:\n",
    "    if app[-5] == \"Reference\":\n",
    "        print(app[1], ': ', app[5])"
   ]
  },
  {
   "cell_type": "markdown",
   "metadata": {},
   "source": [
    "Social Networking and Music are among the most common genres and had a high average rating. Top apps of these two genres belong to Facebook, Pinterest, Skype for Social Networking, and Pandora, Spotify, and Shazam for Music."
   ]
  },
  {
   "cell_type": "code",
   "execution_count": 27,
   "metadata": {},
   "outputs": [
    {
     "name": "stdout",
     "output_type": "stream",
     "text": [
      "Facebook : 2974676\n",
      "Pinterest : 1061624\n",
      "Skype for iPhone : 373519\n",
      "Messenger : 351466\n",
      "Tumblr : 334293\n",
      "WhatsApp Messenger : 287589\n",
      "Kik : 260965\n",
      "ooVoo – Free Video Call, Text and Voice : 177501\n",
      "TextNow - Unlimited Text + Calls : 164963\n",
      "Viber Messenger – Text & Call : 164249\n",
      "Followers - Social Analytics For Instagram : 112778\n",
      "MeetMe - Chat and Meet New People : 97072\n",
      "We Heart It - Fashion, wallpapers, quotes, tattoos : 90414\n",
      "InsTrack for Instagram - Analytics Plus More : 85535\n",
      "Tango - Free Video Call, Voice and Chat : 75412\n",
      "LinkedIn : 71856\n",
      "Match™ - #1 Dating App. : 60659\n",
      "Skype for iPad : 60163\n",
      "POF - Best Dating App for Conversations : 52642\n",
      "Timehop : 49510\n",
      "Find My Family, Friends & iPhone - Life360 Locator : 43877\n",
      "Whisper - Share, Express, Meet : 39819\n",
      "Hangouts : 36404\n",
      "LINE PLAY - Your Avatar World : 34677\n",
      "WeChat : 34584\n",
      "Badoo - Meet New People, Chat, Socialize. : 34428\n",
      "Followers + for Instagram - Follower Analytics : 28633\n",
      "GroupMe : 28260\n",
      "Marco Polo Video Walkie Talkie : 27662\n",
      "Miitomo : 23965\n",
      "SimSimi : 23530\n",
      "Grindr - Gay and same sex guys chat, meet and date : 23201\n",
      "Wishbone - Compare Anything : 20649\n",
      "imo video calls and chat : 18841\n",
      "After School - Funny Anonymous School News : 18482\n",
      "Quick Reposter - Repost, Regram and Reshare Photos : 17694\n",
      "Weibo HD : 16772\n",
      "Repost for Instagram : 15185\n",
      "Live.me – Live Video Chat & Make Friends Nearby : 14724\n",
      "Nextdoor : 14402\n",
      "Followers Analytics for Instagram - InstaReport : 13914\n",
      "YouNow: Live Stream Video Chat : 12079\n",
      "FollowMeter for Instagram - Followers Tracking : 11976\n",
      "LINE : 11437\n",
      "eHarmony™ Dating App - Meet Singles : 11124\n",
      "Discord - Chat for Gamers : 9152\n",
      "QQ : 9109\n",
      "Telegram Messenger : 7573\n",
      "Weibo : 7265\n",
      "Periscope - Live Video Streaming Around the World : 6062\n",
      "Chat for Whatsapp - iPad Version : 5060\n",
      "QQ HD : 5058\n",
      "Followers Analysis Tool For Instagram App Free : 4253\n",
      "live.ly - live video streaming : 4145\n",
      "Houseparty - Group Video Chat : 3991\n",
      "SOMA Messenger : 3232\n",
      "Monkey : 3060\n",
      "Down To Lunch : 2535\n",
      "Flinch - Video Chat Staring Contest : 2134\n",
      "Highrise - Your Avatar Community : 2011\n",
      "LOVOO - Dating Chat : 1985\n",
      "PlayStation®Messages : 1918\n",
      "BOO! - Video chat camera with filters & stickers : 1805\n",
      "Qzone : 1649\n",
      "Chatous - Chat with new people : 1609\n",
      "Kiwi - Q&A : 1538\n",
      "GhostCodes - a discovery app for Snapchat : 1313\n",
      "Jodel : 1193\n",
      "FireChat : 1037\n",
      "Google Duo - simple video calling : 1033\n",
      "Fiesta by Tango - Chat & Meet New People : 885\n",
      "Google Allo — smart messaging : 862\n",
      "Peach — share vividly : 727\n",
      "Hey! VINA - Where Women Meet New Friends : 719\n",
      "Battlefield™ Companion : 689\n",
      "All Devices for WhatsApp - Messenger for iPad : 682\n",
      "Chat for Pokemon Go - GoChat : 500\n",
      "IAmNaughty – Dating App to Meet New People Online : 463\n",
      "Qzone HD : 458\n",
      "Zenly - Locate your friends in realtime : 427\n",
      "League of Legends Friends : 420\n",
      "豆瓣 : 407\n",
      "Candid - Speak Your Mind Freely : 398\n",
      "知乎 : 397\n",
      "Selfeo : 366\n",
      "Fake-A-Location Free ™ : 354\n",
      "Popcorn Buzz - Free Group Calls : 281\n",
      "Fam — Group video calling for iMessage : 279\n",
      "QQ International : 274\n",
      "Ameba : 269\n",
      "SoundCloud Pulse: for creators : 240\n",
      "Tantan : 235\n",
      "Cougar Dating & Life Style App for Mature Women : 213\n",
      "Rawr Messenger - Dab your chat : 180\n",
      "WhenToPost: Best Time to Post Photos for Instagram : 158\n",
      "Inke—Broadcast an amazing life : 147\n",
      "Mustknow - anonymous video Q&A : 53\n",
      "CTFxCmoji : 39\n",
      "Lobi : 36\n",
      "Chain: Collaborate On MyVideo Story/Group Video : 35\n",
      "botman - Real time video chat : 7\n",
      "BestieBox : 0\n",
      "MATCH ON LINE chat : 0\n",
      "niconico ch : 0\n",
      "LINE BLOG : 0\n",
      "bit-tube - Live Stream Video Chat : 0\n"
     ]
    }
   ],
   "source": [
    "for app in ios_freeapps:\n",
    "    if app[-5] == \"Social Networking\":\n",
    "        print(app[1], ':', app[5])"
   ]
  },
  {
   "cell_type": "markdown",
   "metadata": {},
   "source": [
    "Given that apps for entertainment purpose seemed to attract more attention, we recommend to develop apps in this genre. For example, an app where people can create their own music with a store of melody/rhythm and the users can share their product on social network."
   ]
  },
  {
   "cell_type": "code",
   "execution_count": 28,
   "metadata": {},
   "outputs": [
    {
     "name": "stdout",
     "output_type": "stream",
     "text": [
      "ART_AND_DESIGN : 1986335.0877192982\n",
      "AUTO_AND_VEHICLES : 647317.8170731707\n",
      "BEAUTY : 513151.88679245283\n",
      "BOOKS_AND_REFERENCE : 8767811.894736841\n",
      "BUSINESS : 1712290.1474201474\n",
      "COMICS : 817657.2727272727\n",
      "COMMUNICATION : 38456119.167247385\n",
      "DATING : 854028.8303030303\n",
      "EDUCATION : 1833495.145631068\n",
      "ENTERTAINMENT : 11640705.88235294\n",
      "EVENTS : 253542.22222222222\n",
      "FINANCE : 1387692.475609756\n",
      "FOOD_AND_DRINK : 1924897.7363636363\n",
      "HEALTH_AND_FITNESS : 4188821.9853479853\n",
      "HOUSE_AND_HOME : 1331540.5616438356\n",
      "LIBRARIES_AND_DEMO : 638503.734939759\n",
      "LIFESTYLE : 1437816.2687861272\n",
      "GAME : 15588015.603248259\n",
      "FAMILY : 3695641.8198090694\n",
      "MEDICAL : 120550.61980830671\n",
      "SOCIAL : 23253652.127118643\n",
      "SHOPPING : 7036877.311557789\n",
      "PHOTOGRAPHY : 17840110.40229885\n",
      "SPORTS : 3638640.1428571427\n",
      "TRAVEL_AND_LOCAL : 13984077.710144928\n",
      "TOOLS : 10801391.298666667\n",
      "PERSONALIZATION : 5201482.6122448975\n",
      "PRODUCTIVITY : 16787331.344927534\n",
      "PARENTING : 542603.6206896552\n",
      "WEATHER : 5074486.197183099\n",
      "VIDEO_PLAYERS : 24727872.452830188\n",
      "NEWS_AND_MAGAZINES : 9549178.467741935\n",
      "MAPS_AND_NAVIGATION : 4056941.7741935486\n"
     ]
    }
   ],
   "source": [
    "\n",
    "categories_android = freq_table(android_freeapps, 1)\n",
    "\n",
    "for category in categories_android:\n",
    "    total = 0\n",
    "    len_category = 0\n",
    "    for app in android_freeapps:\n",
    "        category_app = app[1]\n",
    "        if category_app == category:            \n",
    "            n_installs = app[5]\n",
    "            n_installs = n_installs.replace(',', '')\n",
    "            n_installs = n_installs.replace('+', '')\n",
    "            total += float(n_installs)\n",
    "            len_category += 1\n",
    "    avg_n_installs = total / len_category\n",
    "    print(category, ':', avg_n_installs)"
   ]
  },
  {
   "cell_type": "markdown",
   "metadata": {},
   "source": [
    "COMMUNICATION had the highest average installs. Similarly to iOS apps, we will see whether this number is biased or not. "
   ]
  },
  {
   "cell_type": "code",
   "execution_count": 29,
   "metadata": {},
   "outputs": [
    {
     "name": "stdout",
     "output_type": "stream",
     "text": [
      "WhatsApp Messenger :  1,000,000,000+\n",
      "imo beta free calls and text :  100,000,000+\n",
      "Android Messages :  100,000,000+\n",
      "Google Duo - High Quality Video Calls :  500,000,000+\n",
      "Messenger – Text and Video Chat for Free :  1,000,000,000+\n",
      "imo free video calls and chat :  500,000,000+\n",
      "Skype - free IM & video calls :  1,000,000,000+\n",
      "Who :  100,000,000+\n",
      "GO SMS Pro - Messenger, Free Themes, Emoji :  100,000,000+\n",
      "LINE: Free Calls & Messages :  500,000,000+\n",
      "Google Chrome: Fast & Secure :  1,000,000,000+\n",
      "Firefox Browser fast & private :  100,000,000+\n",
      "UC Browser - Fast Download Private & Secure :  500,000,000+\n",
      "Gmail :  1,000,000,000+\n",
      "Hangouts :  1,000,000,000+\n",
      "Messenger Lite: Free Calls & Messages :  100,000,000+\n",
      "Kik :  100,000,000+\n",
      "KakaoTalk: Free Calls & Text :  100,000,000+\n",
      "Opera Mini - fast web browser :  100,000,000+\n",
      "Opera Browser: Fast and Secure :  100,000,000+\n",
      "Telegram :  100,000,000+\n",
      "Truecaller: Caller ID, SMS spam blocking & Dialer :  100,000,000+\n",
      "UC Browser Mini -Tiny Fast Private & Secure :  100,000,000+\n",
      "Viber Messenger :  500,000,000+\n",
      "WeChat :  100,000,000+\n",
      "Yahoo Mail – Stay Organized :  100,000,000+\n",
      "BBM - Free Calls & Messages :  100,000,000+\n"
     ]
    }
   ],
   "source": [
    "for app in android_freeapps:\n",
    "    top_apps = []\n",
    "    if app[1] == \"COMMUNICATION\" and (app[5] == '1,000,000,000+'\n",
    "                                     or app[5] == '500,000,000+'\n",
    "                                     or app[5] == '100,000,000+'):\n",
    "        print(app[0], ': ', app[5])\n",
    "        "
   ]
  },
  {
   "cell_type": "code",
   "execution_count": 30,
   "metadata": {},
   "outputs": [
    {
     "data": {
      "text/plain": [
       "3603485.3884615386"
      ]
     },
     "execution_count": 30,
     "metadata": {},
     "output_type": "execute_result"
    }
   ],
   "source": [
    "# Calcul the average of communication after we remove the top apps as outliers\n",
    "under_100_m = []\n",
    "\n",
    "for app in android_freeapps:\n",
    "    n_installs = app[5]\n",
    "    n_installs = n_installs.replace(',', '')\n",
    "    n_installs = n_installs.replace('+', '')\n",
    "    if (app[1] == 'COMMUNICATION') and (float(n_installs) < 100000000):\n",
    "        under_100_m.append(float(n_installs))\n",
    "        \n",
    "sum(under_100_m) / len(under_100_m)"
   ]
  },
  {
   "cell_type": "markdown",
   "metadata": {},
   "source": [
    "Compared to an average of '38456119', the number reduces 10 time after removing outliers. Let's try with Social as well."
   ]
  },
  {
   "cell_type": "code",
   "execution_count": 31,
   "metadata": {},
   "outputs": [
    {
     "name": "stdout",
     "output_type": "stream",
     "text": [
      "Facebook :  1,000,000,000+\n",
      "Facebook Lite :  500,000,000+\n",
      "Tumblr :  100,000,000+\n",
      "Pinterest :  100,000,000+\n",
      "Google+ :  1,000,000,000+\n",
      "Badoo - Free Chat & Dating App :  100,000,000+\n",
      "Tango - Live Video Broadcast :  100,000,000+\n",
      "Instagram :  1,000,000,000+\n",
      "Snapchat :  500,000,000+\n",
      "LinkedIn :  100,000,000+\n",
      "Tik Tok - including musical.ly :  100,000,000+\n",
      "BIGO LIVE - Live Stream :  100,000,000+\n",
      "VK :  100,000,000+\n"
     ]
    }
   ],
   "source": [
    "for app in android_freeapps:\n",
    "    top_apps = []\n",
    "    if app[1] == \"SOCIAL\" and (app[5] == '1,000,000,000+'\n",
    "                                     or app[5] == '500,000,000+'\n",
    "                                     or app[5] == '100,000,000+'):\n",
    "        print(app[0], ': ', app[5])"
   ]
  },
  {
   "cell_type": "code",
   "execution_count": 32,
   "metadata": {},
   "outputs": [
    {
     "data": {
      "text/plain": [
       "3084582.5201793723"
      ]
     },
     "execution_count": 32,
     "metadata": {},
     "output_type": "execute_result"
    }
   ],
   "source": [
    "# Calcul the average of Social after we remove the top apps as outliers\n",
    "under_100_m = []\n",
    "\n",
    "for app in android_freeapps:\n",
    "    n_installs = app[5]\n",
    "    n_installs = n_installs.replace(',', '')\n",
    "    n_installs = n_installs.replace('+', '')\n",
    "    if (app[1] == 'SOCIAL') and (float(n_installs) < 100000000):\n",
    "        under_100_m.append(float(n_installs))\n",
    "        \n",
    "sum(under_100_m) / len(under_100_m)"
   ]
  },
  {
   "cell_type": "markdown",
   "metadata": {},
   "source": [
    "The average rating also reduces more than 7 times compare to previous number without top apps. The domination of top apps in these genres makes it very competitive for a new comer to develop an app in the same genre. Instead, apps relating to other genres like Book or Family can be a good investment. However, we need to investigate these genres more to make the final decision. "
   ]
  },
  {
   "cell_type": "markdown",
   "metadata": {},
   "source": [
    "## Conclusions\n",
    "\n",
    "In this project, we explored datasets of apps on App Store and Google Play, practice some basic processing and cleaning. Analysing the dataset, we notice that the average rating or installs was strongly skewed by certain apps. Among the most common genres and categories, the domination of top apps makes it very competitive for developing a new app. However, more opportunities can be investigated in other entertainment genres."
   ]
  },
  {
   "cell_type": "code",
   "execution_count": null,
   "metadata": {},
   "outputs": [],
   "source": []
  }
 ],
 "metadata": {
  "kernelspec": {
   "display_name": "Python 3",
   "language": "python",
   "name": "python3"
  },
  "language_info": {
   "codemirror_mode": {
    "name": "ipython",
    "version": 3
   },
   "file_extension": ".py",
   "mimetype": "text/x-python",
   "name": "python",
   "nbconvert_exporter": "python",
   "pygments_lexer": "ipython3",
   "version": "3.8.5"
  }
 },
 "nbformat": 4,
 "nbformat_minor": 4
}
