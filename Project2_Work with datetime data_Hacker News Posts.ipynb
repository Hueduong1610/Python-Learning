{
 "cells": [
  {
   "cell_type": "markdown",
   "metadata": {},
   "source": [
    "# About project and dataset\n",
    "\n",
    "This project is to practice working with datetime data using data set of Hacker News. Hacker News is a site on which users can submit posts and those posts receiving high vote or comments will attract a high volume of visitors. You can download the dataset [here](https://www.kaggle.com/hacker-news/hacker-news-posts), but keep in mind that our analysis used a shorter version of the dataset by removing all posts without any comments. \n",
    "\n",
    "Description of data set:\n",
    "\n",
    "> * id: The unique identifier for the post\n",
    "> * title: The title of the post\n",
    "> * url: The URL that the posts links to\n",
    "> * num_points: The number of points that the post acquired\n",
    "> * num_comments: The number of comments on the post\n",
    "> * author: The username of the author\n",
    "> * created_at: The date and time of submitting\n",
    "\n",
    "Our analysis will focus only on posts whose titles begin with either **Ask HN** (ask Hacker news a question) or **Show HN** (show new project, product, etc.). Our aim is to answer two basic questions:\n",
    "\n",
    "> 1) Which one received more attention between **Ask HN** and **Show HN**?\n",
    "\n",
    "> 2) Does the submitting time has an impact on the number of comments?\n",
    "\n",
    "### Import libraries and open data set"
   ]
  },
  {
   "cell_type": "code",
   "execution_count": 1,
   "metadata": {},
   "outputs": [],
   "source": [
    "from csv import reader\n",
    "import datetime as dt\n"
   ]
  },
  {
   "cell_type": "code",
   "execution_count": 2,
   "metadata": {},
   "outputs": [
    {
     "name": "stdout",
     "output_type": "stream",
     "text": [
      "[['12579008', 'You have two days to comment if you want stem cells to be classified as your own', 'http://www.regulations.gov/document?D=FDA-2015-D-3719-0018', '1', '0', 'altstar', '9/26/2016 3:26'], ['12579005', 'SQLAR  the SQLite Archiver', 'https://www.sqlite.org/sqlar/doc/trunk/README.md', '1', '0', 'blacksqr', '9/26/2016 3:24'], ['12578997', 'What if we just printed a flatscreen television on the side of our boxes?', 'https://medium.com/vanmoof/our-secrets-out-f21c1f03fdc8#.ietxmez43', '1', '0', 'pavel_lishin', '9/26/2016 3:19'], ['12578989', 'algorithmic music', 'http://cacm.acm.org/magazines/2011/7/109891-algorithmic-composition/fulltext', '1', '0', 'poindontcare', '9/26/2016 3:16'], ['12578979', 'How the Data Vault Enables the Next-Gen Data Warehouse and Data Lake', 'https://www.talend.com/blog/2016/05/12/talend-and-Â\\x93the-data-vaultÂ\\x94', '1', '0', 'markgainor1', '9/26/2016 3:14']]\n"
     ]
    }
   ],
   "source": [
    "opened_file = open(r\"Desktop\\New folder\\project2\\HN_posts_year_to_Sep_26_2016.csv\", encoding = \"utf8\")\n",
    "read_file = reader(opened_file)\n",
    "hn = list(read_file)\n",
    "hn_header = hn[0]\n",
    "hn = hn[1:]\n",
    "print(hn[:5])"
   ]
  },
  {
   "cell_type": "code",
   "execution_count": 3,
   "metadata": {},
   "outputs": [
    {
     "name": "stdout",
     "output_type": "stream",
     "text": [
      "Number of ask posts:  9139\n",
      "Number of show posts:  10158\n"
     ]
    }
   ],
   "source": [
    "# Our analyse only focuses on posts starting with \"Ask HN\" or \"Show HN\"\n",
    "ask_posts = []\n",
    "show_posts = []\n",
    "other_posts = []\n",
    "\n",
    "for row in hn:\n",
    "    title = row[1]\n",
    "    title_low = title.lower()\n",
    "    if title_low.startswith(\"ask hn\") == True:\n",
    "        ask_posts.append(row)\n",
    "    elif title_low.startswith(\"show hn\") == True:\n",
    "        show_posts.append(row)\n",
    "    else:\n",
    "        other_posts.append(row)\n",
    "print(\"Number of ask posts: \", len(ask_posts))\n",
    "print(\"Number of show posts: \", len(show_posts))"
   ]
  },
  {
   "cell_type": "code",
   "execution_count": 4,
   "metadata": {},
   "outputs": [
    {
     "name": "stdout",
     "output_type": "stream",
     "text": [
      "['id', 'title', 'url', 'num_points', 'num_comments', 'author', 'created_at']\n"
     ]
    }
   ],
   "source": [
    "print(hn_header)"
   ]
  },
  {
   "cell_type": "code",
   "execution_count": 5,
   "metadata": {},
   "outputs": [],
   "source": [
    "def get_avg_comment(dataset, index):\n",
    "    total_comments = 0\n",
    "    for row in dataset:\n",
    "        num_comments = int(row[index])\n",
    "        total_comments += num_comments\n",
    "    avg_comments = total_comments / len(dataset)\n",
    "    return avg_comments\n",
    "    "
   ]
  },
  {
   "cell_type": "code",
   "execution_count": 6,
   "metadata": {},
   "outputs": [
    {
     "name": "stdout",
     "output_type": "stream",
     "text": [
      "Average comments of ask posts:  10.393478498741656\n",
      "\n",
      "\n",
      "Average comments of show_posts:  4.886099625910612\n"
     ]
    }
   ],
   "source": [
    "print(\"Average comments of ask posts: \",get_avg_comment(ask_posts, 4))\n",
    "print('\\n')\n",
    "print(\"Average comments of show_posts: \", get_avg_comment(show_posts, 4))"
   ]
  },
  {
   "cell_type": "markdown",
   "metadata": {},
   "source": [
    "We notice that **users pay more attention to ask posts** with the average number of comments double that of show posts. It seems reasonable given that with ask post, people are willing to give their answers while show posts will only appeal people who are interested in the information. \n",
    "\n",
    "We will now move on to investigate whether posts created at a certain time can attract more comments. To answer that, we use the \"created_at\" column and calcul the average comments by hours created."
   ]
  },
  {
   "cell_type": "code",
   "execution_count": 7,
   "metadata": {},
   "outputs": [],
   "source": [
    "def avg_by_hour(dataset, index1, index2):    \n",
    "    result_list = []\n",
    "    for row in dataset:\n",
    "        time = row[index1]\n",
    "        comment_number = int(row[index2])\n",
    "        result_list.append([time, comment_number])\n",
    "    # print(result_list[1])\n",
    "    counts_by_hour = {}\n",
    "    comments_by_hour = {}\n",
    "    for row in result_list:\n",
    "        date = row[0]\n",
    "        date = dt.datetime.strptime(date, \"%m/%d/%Y %H:%M\")\n",
    "        hour = date.strftime(\"%H\")\n",
    "        if hour not in counts_by_hour:\n",
    "            counts_by_hour[hour] = 1\n",
    "            comments_by_hour[hour] = row[1]\n",
    "        else:\n",
    "            counts_by_hour[hour] += 1\n",
    "            comments_by_hour[hour] += row[1]\n",
    "    avg_by_hour = []\n",
    "    for hour in comments_by_hour:\n",
    "        average_comments = comments_by_hour[hour] / counts_by_hour[hour]\n",
    "        avg_by_hour.append([average_comments, hour])\n",
    "    sorted_result = sorted(avg_by_hour, reverse = True)\n",
    "    for entry in sorted_result:\n",
    "        print(\"{0}: {1:.2f} average comments per post\".format(entry[1], entry[0]))\n",
    " "
   ]
  },
  {
   "cell_type": "code",
   "execution_count": 8,
   "metadata": {},
   "outputs": [
    {
     "name": "stdout",
     "output_type": "stream",
     "text": [
      "15: 28.68 average comments per post\n",
      "13: 16.32 average comments per post\n",
      "12: 12.38 average comments per post\n",
      "02: 11.14 average comments per post\n",
      "10: 10.68 average comments per post\n",
      "04: 9.71 average comments per post\n",
      "14: 9.69 average comments per post\n",
      "17: 9.45 average comments per post\n",
      "08: 9.19 average comments per post\n",
      "11: 8.96 average comments per post\n",
      "22: 8.80 average comments per post\n",
      "05: 8.79 average comments per post\n",
      "20: 8.75 average comments per post\n",
      "21: 8.69 average comments per post\n",
      "03: 7.95 average comments per post\n",
      "18: 7.94 average comments per post\n",
      "16: 7.71 average comments per post\n",
      "00: 7.56 average comments per post\n",
      "01: 7.41 average comments per post\n",
      "19: 7.16 average comments per post\n",
      "07: 7.01 average comments per post\n",
      "06: 6.78 average comments per post\n",
      "23: 6.70 average comments per post\n",
      "09: 6.65 average comments per post\n"
     ]
    }
   ],
   "source": [
    "avg_by_hour(ask_posts, 6, 4)"
   ]
  },
  {
   "cell_type": "markdown",
   "metadata": {},
   "source": [
    "The result shows that posts created at around 3PM attracted the highest number of comments, while ones created too early in the morning or too late in the evening were less noticed. "
   ]
  },
  {
   "cell_type": "code",
   "execution_count": 9,
   "metadata": {},
   "outputs": [
    {
     "name": "stdout",
     "output_type": "stream",
     "text": [
      "12: 6.99 average comments per post\n",
      "07: 6.68 average comments per post\n",
      "11: 6.00 average comments per post\n",
      "08: 5.60 average comments per post\n",
      "14: 5.52 average comments per post\n",
      "13: 5.43 average comments per post\n",
      "02: 5.15 average comments per post\n",
      "04: 5.04 average comments per post\n",
      "19: 5.02 average comments per post\n",
      "18: 4.94 average comments per post\n",
      "06: 4.71 average comments per post\n",
      "16: 4.71 average comments per post\n",
      "09: 4.67 average comments per post\n",
      "00: 4.65 average comments per post\n",
      "15: 4.57 average comments per post\n",
      "03: 4.53 average comments per post\n",
      "23: 4.53 average comments per post\n",
      "17: 4.25 average comments per post\n",
      "20: 4.16 average comments per post\n",
      "21: 4.09 average comments per post\n",
      "01: 4.07 average comments per post\n",
      "22: 3.85 average comments per post\n",
      "10: 3.80 average comments per post\n",
      "05: 3.44 average comments per post\n"
     ]
    }
   ],
   "source": [
    "avg_by_hour(show_posts, 6, 4)"
   ]
  },
  {
   "cell_type": "markdown",
   "metadata": {},
   "source": [
    "With show posts, the most common times were around 7AM and 12AM. However, the difference in the number of comments by hour is not as large as in ask posts."
   ]
  },
  {
   "cell_type": "code",
   "execution_count": null,
   "metadata": {},
   "outputs": [],
   "source": []
  }
 ],
 "metadata": {
  "kernelspec": {
   "display_name": "Python 3",
   "language": "python",
   "name": "python3"
  },
  "language_info": {
   "codemirror_mode": {
    "name": "ipython",
    "version": 3
   },
   "file_extension": ".py",
   "mimetype": "text/x-python",
   "name": "python",
   "nbconvert_exporter": "python",
   "pygments_lexer": "ipython3",
   "version": "3.8.5"
  }
 },
 "nbformat": 4,
 "nbformat_minor": 4
}
